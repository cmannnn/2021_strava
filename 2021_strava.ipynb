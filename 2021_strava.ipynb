{
  "nbformat": 4,
  "nbformat_minor": 0,
  "metadata": {
    "colab": {
      "name": "2021_strava.ipynb",
      "provenance": [],
      "authorship_tag": "ABX9TyPeM94/J36hHJYHs91Jg7NF",
      "include_colab_link": true
    },
    "kernelspec": {
      "name": "python3",
      "display_name": "Python 3"
    },
    "language_info": {
      "name": "python"
    }
  },
  "cells": [
    {
      "cell_type": "markdown",
      "metadata": {
        "id": "view-in-github",
        "colab_type": "text"
      },
      "source": [
        "<a href=\"https://colab.research.google.com/github/cmannnn/2021_strava/blob/main/2021_strava.ipynb\" target=\"_parent\"><img src=\"https://colab.research.google.com/assets/colab-badge.svg\" alt=\"Open In Colab\"/></a>"
      ]
    },
    {
      "cell_type": "code",
      "execution_count": 1,
      "metadata": {
        "id": "3U8f5wlT0YfA"
      },
      "outputs": [],
      "source": [
        "# imports\n",
        "import pandas as pd\n",
        "import matplotlib.pyplot as plt\n",
        "import seaborn as sns\n",
        "import numpy as np\n",
        "# plt.style.use('ggplot')\n",
        "# sns.set_style('darkgrid')"
      ]
    },
    {
      "cell_type": "code",
      "source": [
        "# mounting google drive\n",
        "from google.colab import drive\n",
        "drive.mount('/content/drive')"
      ],
      "metadata": {
        "colab": {
          "base_uri": "https://localhost:8080/"
        },
        "id": "ZMytbzAt3w6o",
        "outputId": "13008228-1ce9-4595-9c17-63bbeada8d40"
      },
      "execution_count": 2,
      "outputs": [
        {
          "output_type": "stream",
          "name": "stdout",
          "text": [
            "Mounted at /content/drive\n"
          ]
        }
      ]
    },
    {
      "cell_type": "code",
      "source": [
        "# setting the path of each interesting CSV\n",
        "activities_path = \"/content/drive/MyDrive/Colabby Krabby Paddy/2021_strava/2021_strava/activities.csv\"\n",
        "local_legends_segments_path = \"/content/drive/MyDrive/Colabby Krabby Paddy/2021_strava/2021_strava/local_legend_segments.csv\"\n",
        "kudos_path = \"/content/drive/MyDrive/Colabby Krabby Paddy/2021_strava/2021_strava/kudos.csv\""
      ],
      "metadata": {
        "id": "ZNqzdsV85KJr"
      },
      "execution_count": 3,
      "outputs": []
    },
    {
      "cell_type": "markdown",
      "source": [
        "# Importing, cleaning activities_df"
      ],
      "metadata": {
        "id": "issQBY23fmdo"
      }
    },
    {
      "cell_type": "code",
      "source": [
        "# reading in activities data\n",
        "activities_df = pd.read_csv(activities_path, parse_dates = True)"
      ],
      "metadata": {
        "id": "XK2jOAwl6O6d"
      },
      "execution_count": 4,
      "outputs": []
    },
    {
      "cell_type": "code",
      "source": [
        "# columns to drop from activities_df\n",
        "cols_to_drop = ['Activity Description', 'Max Heart Rate', 'Relative Effort', 'Commute', 'Activity Gear', 'Filename', 'Athlete Weight', \n",
        "                'Bike Weight', 'Elapsed Time.1', 'Moving Time', 'Distance.1', 'Average Positive Grade', 'Average Negative Grade',\n",
        "                'Max Cadence', 'Average Cadence', 'Max Heart Rate.1', 'Average Heart Rate', 'Max Watts', 'Average Watts', 'Max Temperature',\n",
        "                'Average Temperature', 'Relative Effort.1', 'Total Work', 'Number of Runs', 'Uphill Time', 'Downhill Time', 'Other Time',\n",
        "                '<span class=\"translation_missing\" title=\"translation missing: en-US.lib.export.portability_exporter.activities.horton_values.start_time\">Start Time</span>',\n",
        "                'Weighted Average Power', 'Power Count', 'Prefer Perceived Exertion', 'Commute.1', 'Total Weight Lifted', 'From Upload', 'Grade Adjusted Distance',\n",
        "                'Weather Observation Time', 'Weather Condition', 'Weather Temperature', 'Apparent Temperature', 'Dewpoint', 'Humidity', 'Weather Pressure',\n",
        "                'Wind Speed', 'Wind Gust', 'Wind Bearing', 'Precipitation Intensity', 'Sunset Time', 'Moon Phase', 'Bike', 'Gear', 'Precipitation Probability', \n",
        "                'Precipitation Type', 'Cloud Cover', 'Weather Visibility', 'UV Index', 'Weather Ozone', 'Sunrise Time', 'Activity Name',\n",
        "                '<span class=\"translation_missing\" title=\"translation missing: en-US.lib.export.portability_exporter.activities.horton_values.type\">Type</span>', \n",
        "                '<span class=\"translation_missing\" title=\"translation missing: en-US.lib.export.portability_exporter.activities.horton_values.jump_count\">Jump Count</span>',\n",
        "                '<span class=\"translation_missing\" title=\"translation missing: en-US.lib.export.portability_exporter.activities.horton_values.total_grit\">Total Grit</span>',\n",
        "                '<span class=\"translation_missing\" title=\"translation missing: en-US.lib.export.portability_exporter.activities.horton_values.avg_flow\">Avg Flow</span>',\n",
        "                '<span class=\"translation_missing\" title=\"translation missing: en-US.lib.export.portability_exporter.activities.horton_values.flagged\">Flagged</span>',\n",
        "                '<span class=\"translation_missing\" title=\"translation missing: en-US.lib.export.portability_exporter.activities.horton_values.avg_elapsed_speed\">Avg Elapsed Speed</span>',\n",
        "                '<span class=\"translation_missing\" title=\"translation missing: en-US.lib.export.portability_exporter.activities.horton_values.dirt_distance\">Dirt Distance</span>',\n",
        "                '<span class=\"translation_missing\" title=\"translation missing: en-US.lib.export.portability_exporter.activities.horton_values.newly_explored_distance\">Newly Explored Distance</span>',\n",
        "                '<span class=\"translation_missing\" title=\"translation missing: en-US.lib.export.portability_exporter.activities.horton_values.newly_explored_dirt_distance\">Newly Explored Dirt Distance</span>',\n",
        "                ]"
      ],
      "metadata": {
        "id": "BsahjImT99YK"
      },
      "execution_count": 5,
      "outputs": []
    },
    {
      "cell_type": "code",
      "source": [
        "# dropping the columns\n",
        "activities_df.drop(axis=1, columns = cols_to_drop, inplace = True)"
      ],
      "metadata": {
        "id": "y3Wss5cR-cqh"
      },
      "execution_count": 6,
      "outputs": []
    },
    {
      "cell_type": "code",
      "source": [
        "# checking correct columns were dropped\n",
        "print(activities_df.columns)"
      ],
      "metadata": {
        "colab": {
          "base_uri": "https://localhost:8080/"
        },
        "id": "F4l8zDfy7o-b",
        "outputId": "da1de72f-26ae-4c75-871d-87178d869ce5"
      },
      "execution_count": 7,
      "outputs": [
        {
          "output_type": "stream",
          "name": "stdout",
          "text": [
            "Index(['Activity ID', 'Activity Date', 'Activity Type', 'Elapsed Time',\n",
            "       'Distance', 'Max Speed', 'Average Speed', 'Elevation Gain',\n",
            "       'Elevation Loss', 'Elevation Low', 'Elevation High', 'Max Grade',\n",
            "       'Average Grade', 'Calories', 'Perceived Exertion',\n",
            "       'Perceived Relative Effort'],\n",
            "      dtype='object')\n"
          ]
        }
      ]
    },
    {
      "cell_type": "code",
      "source": [
        "print(activities_df['Activity Date'].head())"
      ],
      "metadata": {
        "colab": {
          "base_uri": "https://localhost:8080/"
        },
        "id": "Jx1fKClaYXXL",
        "outputId": "77e048c3-b75c-4c2b-e818-5df3a29c690c"
      },
      "execution_count": 8,
      "outputs": [
        {
          "output_type": "stream",
          "name": "stdout",
          "text": [
            "0    Jun 28, 2020, 5:03:05 PM\n",
            "1    Jun 29, 2020, 9:42:34 PM\n",
            "2    Jun 30, 2020, 9:01:11 PM\n",
            "3     Jul 1, 2020, 8:38:04 PM\n",
            "4     Jul 3, 2020, 1:44:58 PM\n",
            "Name: Activity Date, dtype: object\n"
          ]
        }
      ]
    },
    {
      "cell_type": "code",
      "source": [
        "# changing activity date column to datetime\n",
        "activities_df['Activity Date'] = pd.to_datetime(activities_df['Activity Date'])"
      ],
      "metadata": {
        "id": "zHSYDaxMX1Vo"
      },
      "execution_count": 9,
      "outputs": []
    },
    {
      "cell_type": "code",
      "source": [
        "# checking the data types of each column\n",
        "print(activities_df.dtypes)"
      ],
      "metadata": {
        "colab": {
          "base_uri": "https://localhost:8080/"
        },
        "id": "vAX6XEtJUeTi",
        "outputId": "64bee696-a02a-45e4-fa47-7fb3c7a776f3"
      },
      "execution_count": 10,
      "outputs": [
        {
          "output_type": "stream",
          "name": "stdout",
          "text": [
            "Activity ID                           int64\n",
            "Activity Date                datetime64[ns]\n",
            "Activity Type                        object\n",
            "Elapsed Time                          int64\n",
            "Distance                             object\n",
            "Max Speed                           float64\n",
            "Average Speed                       float64\n",
            "Elevation Gain                      float64\n",
            "Elevation Loss                      float64\n",
            "Elevation Low                       float64\n",
            "Elevation High                      float64\n",
            "Max Grade                           float64\n",
            "Average Grade                       float64\n",
            "Calories                            float64\n",
            "Perceived Exertion                  float64\n",
            "Perceived Relative Effort           float64\n",
            "dtype: object\n"
          ]
        }
      ]
    },
    {
      "cell_type": "code",
      "source": [
        "# filtering activities_df to only 2021 data\n",
        "activities_df = activities_df[activities_df['Activity Date'] > '2021-01-01']"
      ],
      "metadata": {
        "id": "0btRRCTOTkFO"
      },
      "execution_count": 11,
      "outputs": []
    },
    {
      "cell_type": "code",
      "source": [
        "# setting activity date as the index of activities_df\n",
        "activities_df.set_index('Activity Date', inplace = True)"
      ],
      "metadata": {
        "id": "dvoCGSnFeMrM"
      },
      "execution_count": 12,
      "outputs": []
    },
    {
      "cell_type": "code",
      "source": [
        "# elapsed time in activities_df was defaulted to seconds, changing it to minutes\n",
        "activities_df['Elapsed Time'] = activities_df['Elapsed Time'] / 60"
      ],
      "metadata": {
        "colab": {
          "base_uri": "https://localhost:8080/"
        },
        "id": "h28rWb-yeAIW",
        "outputId": "ca295be4-570a-48be-cbe5-90f722b07f5c"
      },
      "execution_count": 13,
      "outputs": [
        {
          "output_type": "stream",
          "name": "stderr",
          "text": [
            "/usr/local/lib/python3.7/dist-packages/ipykernel_launcher.py:2: SettingWithCopyWarning: \n",
            "A value is trying to be set on a copy of a slice from a DataFrame.\n",
            "Try using .loc[row_indexer,col_indexer] = value instead\n",
            "\n",
            "See the caveats in the documentation: https://pandas.pydata.org/pandas-docs/stable/user_guide/indexing.html#returning-a-view-versus-a-copy\n",
            "  \n"
          ]
        }
      ]
    },
    {
      "cell_type": "code",
      "source": [
        "# changing distance column to float64\n",
        "activities_df['Distance'] = activities_df['Distance'].astype(np.float64)"
      ],
      "metadata": {
        "id": "vMORtkO13rK6",
        "colab": {
          "base_uri": "https://localhost:8080/"
        },
        "outputId": "3dd8eef3-ffb5-496d-97b1-73247f1a5d13"
      },
      "execution_count": 14,
      "outputs": [
        {
          "output_type": "stream",
          "name": "stderr",
          "text": [
            "/usr/local/lib/python3.7/dist-packages/ipykernel_launcher.py:2: SettingWithCopyWarning: \n",
            "A value is trying to be set on a copy of a slice from a DataFrame.\n",
            "Try using .loc[row_indexer,col_indexer] = value instead\n",
            "\n",
            "See the caveats in the documentation: https://pandas.pydata.org/pandas-docs/stable/user_guide/indexing.html#returning-a-view-versus-a-copy\n",
            "  \n"
          ]
        }
      ]
    },
    {
      "cell_type": "code",
      "source": [
        "# changing distance from km to mi\n",
        "activities_df['Distance'] = (activities_df['Distance'] / (8/5)) "
      ],
      "metadata": {
        "id": "f-3i00p-rzah",
        "colab": {
          "base_uri": "https://localhost:8080/"
        },
        "outputId": "43a70db9-08c3-453c-df2c-2a64d0dc09a9"
      },
      "execution_count": 15,
      "outputs": [
        {
          "output_type": "stream",
          "name": "stderr",
          "text": [
            "/usr/local/lib/python3.7/dist-packages/ipykernel_launcher.py:2: SettingWithCopyWarning: \n",
            "A value is trying to be set on a copy of a slice from a DataFrame.\n",
            "Try using .loc[row_indexer,col_indexer] = value instead\n",
            "\n",
            "See the caveats in the documentation: https://pandas.pydata.org/pandas-docs/stable/user_guide/indexing.html#returning-a-view-versus-a-copy\n",
            "  \n"
          ]
        }
      ]
    },
    {
      "cell_type": "code",
      "source": [
        "# changing elevation gain, elevation loss, elevation low, elevation high from meters to feet\n",
        "activities_df['Elevation Gain'] = (activities_df['Elevation Gain'] * 3.28084)\n",
        "activities_df['Elevation Loss'] = (activities_df['Elevation Loss'] * 3.28084)\n",
        "activities_df['Elevation Low'] = (activities_df['Elevation Low'] * 3.28084)\n",
        "activities_df['Elevation High'] = (activities_df['Elevation High'] * 3.28084)"
      ],
      "metadata": {
        "id": "w77-FwBmtbhy",
        "colab": {
          "base_uri": "https://localhost:8080/"
        },
        "outputId": "af9fa468-d1ea-46a3-f859-ba274978bab0"
      },
      "execution_count": 16,
      "outputs": [
        {
          "output_type": "stream",
          "name": "stderr",
          "text": [
            "/usr/local/lib/python3.7/dist-packages/ipykernel_launcher.py:2: SettingWithCopyWarning: \n",
            "A value is trying to be set on a copy of a slice from a DataFrame.\n",
            "Try using .loc[row_indexer,col_indexer] = value instead\n",
            "\n",
            "See the caveats in the documentation: https://pandas.pydata.org/pandas-docs/stable/user_guide/indexing.html#returning-a-view-versus-a-copy\n",
            "  \n",
            "/usr/local/lib/python3.7/dist-packages/ipykernel_launcher.py:3: SettingWithCopyWarning: \n",
            "A value is trying to be set on a copy of a slice from a DataFrame.\n",
            "Try using .loc[row_indexer,col_indexer] = value instead\n",
            "\n",
            "See the caveats in the documentation: https://pandas.pydata.org/pandas-docs/stable/user_guide/indexing.html#returning-a-view-versus-a-copy\n",
            "  This is separate from the ipykernel package so we can avoid doing imports until\n",
            "/usr/local/lib/python3.7/dist-packages/ipykernel_launcher.py:4: SettingWithCopyWarning: \n",
            "A value is trying to be set on a copy of a slice from a DataFrame.\n",
            "Try using .loc[row_indexer,col_indexer] = value instead\n",
            "\n",
            "See the caveats in the documentation: https://pandas.pydata.org/pandas-docs/stable/user_guide/indexing.html#returning-a-view-versus-a-copy\n",
            "  after removing the cwd from sys.path.\n",
            "/usr/local/lib/python3.7/dist-packages/ipykernel_launcher.py:5: SettingWithCopyWarning: \n",
            "A value is trying to be set on a copy of a slice from a DataFrame.\n",
            "Try using .loc[row_indexer,col_indexer] = value instead\n",
            "\n",
            "See the caveats in the documentation: https://pandas.pydata.org/pandas-docs/stable/user_guide/indexing.html#returning-a-view-versus-a-copy\n",
            "  \"\"\"\n"
          ]
        }
      ]
    },
    {
      "cell_type": "markdown",
      "source": [
        "# activities_df analysis"
      ],
      "metadata": {
        "id": "cLgPWfu56_yL"
      }
    },
    {
      "cell_type": "code",
      "source": [
        "# total activity distance sum\n",
        "activities_df['Distance'].sum()"
      ],
      "metadata": {
        "colab": {
          "base_uri": "https://localhost:8080/"
        },
        "id": "XiWmCMIR206G",
        "outputId": "4a586ced-bfd2-497f-a1c4-01c236edb930"
      },
      "execution_count": 17,
      "outputs": [
        {
          "output_type": "execute_result",
          "data": {
            "text/plain": [
              "3035.0"
            ]
          },
          "metadata": {},
          "execution_count": 17
        }
      ]
    },
    {
      "cell_type": "code",
      "source": [
        "# total activity time\n",
        "activities_df['Elapsed Time'].sum()"
      ],
      "metadata": {
        "colab": {
          "base_uri": "https://localhost:8080/"
        },
        "id": "PF8k_GX4wBGQ",
        "outputId": "a2f5f345-47f6-4246-fb8e-22b56c834e04"
      },
      "execution_count": 18,
      "outputs": [
        {
          "output_type": "execute_result",
          "data": {
            "text/plain": [
              "27852.316666666666"
            ]
          },
          "metadata": {},
          "execution_count": 18
        }
      ]
    },
    {
      "cell_type": "code",
      "source": [
        "# summary stats grouping by activity type\n",
        "activities_df.groupby(['Activity Type']).sum()"
      ],
      "metadata": {
        "colab": {
          "base_uri": "https://localhost:8080/",
          "height": 496
        },
        "id": "UizHuznNwJIn",
        "outputId": "3da73392-26c0-402c-f7da-49ae2928c309"
      },
      "execution_count": 19,
      "outputs": [
        {
          "output_type": "execute_result",
          "data": {
            "text/html": [
              "\n",
              "  <div id=\"df-1c62b8ab-6c7e-4d61-bca9-6cf34f127eca\">\n",
              "    <div class=\"colab-df-container\">\n",
              "      <div>\n",
              "<style scoped>\n",
              "    .dataframe tbody tr th:only-of-type {\n",
              "        vertical-align: middle;\n",
              "    }\n",
              "\n",
              "    .dataframe tbody tr th {\n",
              "        vertical-align: top;\n",
              "    }\n",
              "\n",
              "    .dataframe thead th {\n",
              "        text-align: right;\n",
              "    }\n",
              "</style>\n",
              "<table border=\"1\" class=\"dataframe\">\n",
              "  <thead>\n",
              "    <tr style=\"text-align: right;\">\n",
              "      <th></th>\n",
              "      <th>Activity ID</th>\n",
              "      <th>Elapsed Time</th>\n",
              "      <th>Distance</th>\n",
              "      <th>Max Speed</th>\n",
              "      <th>Average Speed</th>\n",
              "      <th>Elevation Gain</th>\n",
              "      <th>Elevation Loss</th>\n",
              "      <th>Elevation Low</th>\n",
              "      <th>Elevation High</th>\n",
              "      <th>Max Grade</th>\n",
              "      <th>Average Grade</th>\n",
              "      <th>Calories</th>\n",
              "      <th>Perceived Exertion</th>\n",
              "      <th>Perceived Relative Effort</th>\n",
              "    </tr>\n",
              "    <tr>\n",
              "      <th>Activity Type</th>\n",
              "      <th></th>\n",
              "      <th></th>\n",
              "      <th></th>\n",
              "      <th></th>\n",
              "      <th></th>\n",
              "      <th></th>\n",
              "      <th></th>\n",
              "      <th></th>\n",
              "      <th></th>\n",
              "      <th></th>\n",
              "      <th></th>\n",
              "      <th></th>\n",
              "      <th></th>\n",
              "      <th></th>\n",
              "    </tr>\n",
              "  </thead>\n",
              "  <tbody>\n",
              "    <tr>\n",
              "      <th>Alpine Ski</th>\n",
              "      <td>9717938627</td>\n",
              "      <td>424.866667</td>\n",
              "      <td>33.32500</td>\n",
              "      <td>54.600000</td>\n",
              "      <td>6.990803</td>\n",
              "      <td>16846.789001</td>\n",
              "      <td>18310.700449</td>\n",
              "      <td>2440.616856</td>\n",
              "      <td>5652.887320</td>\n",
              "      <td>100.000000</td>\n",
              "      <td>-2.344891</td>\n",
              "      <td>0.0</td>\n",
              "      <td>5.0</td>\n",
              "      <td>93.0</td>\n",
              "    </tr>\n",
              "    <tr>\n",
              "      <th>Backcountry Ski</th>\n",
              "      <td>78178693155</td>\n",
              "      <td>1568.616667</td>\n",
              "      <td>44.41875</td>\n",
              "      <td>195.383983</td>\n",
              "      <td>21.591226</td>\n",
              "      <td>20683.155672</td>\n",
              "      <td>20831.448879</td>\n",
              "      <td>35609.580751</td>\n",
              "      <td>54579.397631</td>\n",
              "      <td>793.542091</td>\n",
              "      <td>-1.479171</td>\n",
              "      <td>0.0</td>\n",
              "      <td>80.0</td>\n",
              "      <td>1040.0</td>\n",
              "    </tr>\n",
              "    <tr>\n",
              "      <th>Elliptical</th>\n",
              "      <td>6048716578</td>\n",
              "      <td>50.000000</td>\n",
              "      <td>3.35000</td>\n",
              "      <td>0.000000</td>\n",
              "      <td>1.788167</td>\n",
              "      <td>0.000000</td>\n",
              "      <td>0.000000</td>\n",
              "      <td>0.000000</td>\n",
              "      <td>0.000000</td>\n",
              "      <td>0.000000</td>\n",
              "      <td>0.000000</td>\n",
              "      <td>0.0</td>\n",
              "      <td>6.0</td>\n",
              "      <td>79.0</td>\n",
              "    </tr>\n",
              "    <tr>\n",
              "      <th>Hike</th>\n",
              "      <td>49060464568</td>\n",
              "      <td>1462.650000</td>\n",
              "      <td>44.63750</td>\n",
              "      <td>42.621972</td>\n",
              "      <td>10.452316</td>\n",
              "      <td>13371.738151</td>\n",
              "      <td>13376.658910</td>\n",
              "      <td>19473.754099</td>\n",
              "      <td>31676.181495</td>\n",
              "      <td>412.250502</td>\n",
              "      <td>-0.087147</td>\n",
              "      <td>0.0</td>\n",
              "      <td>37.0</td>\n",
              "      <td>1263.0</td>\n",
              "    </tr>\n",
              "    <tr>\n",
              "      <th>Ride</th>\n",
              "      <td>90594882152</td>\n",
              "      <td>2603.850000</td>\n",
              "      <td>483.31250</td>\n",
              "      <td>281.671875</td>\n",
              "      <td>93.410793</td>\n",
              "      <td>39928.224795</td>\n",
              "      <td>39483.996276</td>\n",
              "      <td>14425.525363</td>\n",
              "      <td>25936.024387</td>\n",
              "      <td>374.961785</td>\n",
              "      <td>0.317965</td>\n",
              "      <td>0.0</td>\n",
              "      <td>103.0</td>\n",
              "      <td>4305.0</td>\n",
              "    </tr>\n",
              "    <tr>\n",
              "      <th>Run</th>\n",
              "      <td>1317445878402</td>\n",
              "      <td>19935.233333</td>\n",
              "      <td>2308.48125</td>\n",
              "      <td>1420.922246</td>\n",
              "      <td>812.758796</td>\n",
              "      <td>195881.264364</td>\n",
              "      <td>195280.229705</td>\n",
              "      <td>43442.915162</td>\n",
              "      <td>120691.605682</td>\n",
              "      <td>5032.082468</td>\n",
              "      <td>-2.306505</td>\n",
              "      <td>98902.0</td>\n",
              "      <td>1531.0</td>\n",
              "      <td>35634.0</td>\n",
              "    </tr>\n",
              "    <tr>\n",
              "      <th>Virtual Ride</th>\n",
              "      <td>31732242891</td>\n",
              "      <td>361.016667</td>\n",
              "      <td>55.43125</td>\n",
              "      <td>92.892187</td>\n",
              "      <td>20.578063</td>\n",
              "      <td>16151.575320</td>\n",
              "      <td>2591.863600</td>\n",
              "      <td>10891.076384</td>\n",
              "      <td>25393.045192</td>\n",
              "      <td>89.813087</td>\n",
              "      <td>26.491498</td>\n",
              "      <td>4967.0</td>\n",
              "      <td>38.0</td>\n",
              "      <td>845.0</td>\n",
              "    </tr>\n",
              "    <tr>\n",
              "      <th>Walk</th>\n",
              "      <td>18174227878</td>\n",
              "      <td>1231.700000</td>\n",
              "      <td>36.51250</td>\n",
              "      <td>6.817236</td>\n",
              "      <td>3.671367</td>\n",
              "      <td>523.473902</td>\n",
              "      <td>553.001962</td>\n",
              "      <td>5.249344</td>\n",
              "      <td>202.755909</td>\n",
              "      <td>25.125631</td>\n",
              "      <td>-0.042330</td>\n",
              "      <td>0.0</td>\n",
              "      <td>5.0</td>\n",
              "      <td>194.0</td>\n",
              "    </tr>\n",
              "    <tr>\n",
              "      <th>Workout</th>\n",
              "      <td>16442881134</td>\n",
              "      <td>214.383333</td>\n",
              "      <td>25.53125</td>\n",
              "      <td>20.700000</td>\n",
              "      <td>9.945833</td>\n",
              "      <td>2608.267800</td>\n",
              "      <td>2608.267800</td>\n",
              "      <td>930.446245</td>\n",
              "      <td>2149.606383</td>\n",
              "      <td>105.300003</td>\n",
              "      <td>0.002695</td>\n",
              "      <td>2925.0</td>\n",
              "      <td>18.0</td>\n",
              "      <td>325.0</td>\n",
              "    </tr>\n",
              "  </tbody>\n",
              "</table>\n",
              "</div>\n",
              "      <button class=\"colab-df-convert\" onclick=\"convertToInteractive('df-1c62b8ab-6c7e-4d61-bca9-6cf34f127eca')\"\n",
              "              title=\"Convert this dataframe to an interactive table.\"\n",
              "              style=\"display:none;\">\n",
              "        \n",
              "  <svg xmlns=\"http://www.w3.org/2000/svg\" height=\"24px\"viewBox=\"0 0 24 24\"\n",
              "       width=\"24px\">\n",
              "    <path d=\"M0 0h24v24H0V0z\" fill=\"none\"/>\n",
              "    <path d=\"M18.56 5.44l.94 2.06.94-2.06 2.06-.94-2.06-.94-.94-2.06-.94 2.06-2.06.94zm-11 1L8.5 8.5l.94-2.06 2.06-.94-2.06-.94L8.5 2.5l-.94 2.06-2.06.94zm10 10l.94 2.06.94-2.06 2.06-.94-2.06-.94-.94-2.06-.94 2.06-2.06.94z\"/><path d=\"M17.41 7.96l-1.37-1.37c-.4-.4-.92-.59-1.43-.59-.52 0-1.04.2-1.43.59L10.3 9.45l-7.72 7.72c-.78.78-.78 2.05 0 2.83L4 21.41c.39.39.9.59 1.41.59.51 0 1.02-.2 1.41-.59l7.78-7.78 2.81-2.81c.8-.78.8-2.07 0-2.86zM5.41 20L4 18.59l7.72-7.72 1.47 1.35L5.41 20z\"/>\n",
              "  </svg>\n",
              "      </button>\n",
              "      \n",
              "  <style>\n",
              "    .colab-df-container {\n",
              "      display:flex;\n",
              "      flex-wrap:wrap;\n",
              "      gap: 12px;\n",
              "    }\n",
              "\n",
              "    .colab-df-convert {\n",
              "      background-color: #E8F0FE;\n",
              "      border: none;\n",
              "      border-radius: 50%;\n",
              "      cursor: pointer;\n",
              "      display: none;\n",
              "      fill: #1967D2;\n",
              "      height: 32px;\n",
              "      padding: 0 0 0 0;\n",
              "      width: 32px;\n",
              "    }\n",
              "\n",
              "    .colab-df-convert:hover {\n",
              "      background-color: #E2EBFA;\n",
              "      box-shadow: 0px 1px 2px rgba(60, 64, 67, 0.3), 0px 1px 3px 1px rgba(60, 64, 67, 0.15);\n",
              "      fill: #174EA6;\n",
              "    }\n",
              "\n",
              "    [theme=dark] .colab-df-convert {\n",
              "      background-color: #3B4455;\n",
              "      fill: #D2E3FC;\n",
              "    }\n",
              "\n",
              "    [theme=dark] .colab-df-convert:hover {\n",
              "      background-color: #434B5C;\n",
              "      box-shadow: 0px 1px 3px 1px rgba(0, 0, 0, 0.15);\n",
              "      filter: drop-shadow(0px 1px 2px rgba(0, 0, 0, 0.3));\n",
              "      fill: #FFFFFF;\n",
              "    }\n",
              "  </style>\n",
              "\n",
              "      <script>\n",
              "        const buttonEl =\n",
              "          document.querySelector('#df-1c62b8ab-6c7e-4d61-bca9-6cf34f127eca button.colab-df-convert');\n",
              "        buttonEl.style.display =\n",
              "          google.colab.kernel.accessAllowed ? 'block' : 'none';\n",
              "\n",
              "        async function convertToInteractive(key) {\n",
              "          const element = document.querySelector('#df-1c62b8ab-6c7e-4d61-bca9-6cf34f127eca');\n",
              "          const dataTable =\n",
              "            await google.colab.kernel.invokeFunction('convertToInteractive',\n",
              "                                                     [key], {});\n",
              "          if (!dataTable) return;\n",
              "\n",
              "          const docLinkHtml = 'Like what you see? Visit the ' +\n",
              "            '<a target=\"_blank\" href=https://colab.research.google.com/notebooks/data_table.ipynb>data table notebook</a>'\n",
              "            + ' to learn more about interactive tables.';\n",
              "          element.innerHTML = '';\n",
              "          dataTable['output_type'] = 'display_data';\n",
              "          await google.colab.output.renderOutput(dataTable, element);\n",
              "          const docLink = document.createElement('div');\n",
              "          docLink.innerHTML = docLinkHtml;\n",
              "          element.appendChild(docLink);\n",
              "        }\n",
              "      </script>\n",
              "    </div>\n",
              "  </div>\n",
              "  "
            ],
            "text/plain": [
              "                   Activity ID  ...  Perceived Relative Effort\n",
              "Activity Type                   ...                           \n",
              "Alpine Ski          9717938627  ...                       93.0\n",
              "Backcountry Ski    78178693155  ...                     1040.0\n",
              "Elliptical          6048716578  ...                       79.0\n",
              "Hike               49060464568  ...                     1263.0\n",
              "Ride               90594882152  ...                     4305.0\n",
              "Run              1317445878402  ...                    35634.0\n",
              "Virtual Ride       31732242891  ...                      845.0\n",
              "Walk               18174227878  ...                      194.0\n",
              "Workout            16442881134  ...                      325.0\n",
              "\n",
              "[9 rows x 14 columns]"
            ]
          },
          "metadata": {},
          "execution_count": 19
        }
      ]
    },
    {
      "cell_type": "code",
      "source": [
        "# counts of each workout\n",
        "activities_df['Activity Type'].value_counts()"
      ],
      "metadata": {
        "colab": {
          "base_uri": "https://localhost:8080/"
        },
        "id": "FO-hhDQe8cDY",
        "outputId": "4e0da1b2-e3f2-44de-ef01-62124dd34ba7"
      },
      "execution_count": 20,
      "outputs": [
        {
          "output_type": "execute_result",
          "data": {
            "text/plain": [
              "Run                235\n",
              "Backcountry Ski     16\n",
              "Ride                16\n",
              "Hike                 9\n",
              "Virtual Ride         5\n",
              "Workout              3\n",
              "Walk                 3\n",
              "Alpine Ski           2\n",
              "Elliptical           1\n",
              "Name: Activity Type, dtype: int64"
            ]
          },
          "metadata": {},
          "execution_count": 20
        }
      ]
    },
    {
      "cell_type": "code",
      "source": [
        "# sum of run data\n",
        "activities_df[activities_df['Activity Type'] == 'Run'].sum()"
      ],
      "metadata": {
        "colab": {
          "base_uri": "https://localhost:8080/"
        },
        "id": "vHA5e6H77JdW",
        "outputId": "d6ab557e-1c89-48a3-b1c4-7864dfcc0cf1"
      },
      "execution_count": 21,
      "outputs": [
        {
          "output_type": "execute_result",
          "data": {
            "text/plain": [
              "Activity ID                                                      1317445878402\n",
              "Activity Type                RunRunRunRunRunRunRunRunRunRunRunRunRunRunRunR...\n",
              "Elapsed Time                                                           19935.2\n",
              "Distance                                                               2308.48\n",
              "Max Speed                                                              1420.92\n",
              "Average Speed                                                          812.759\n",
              "Elevation Gain                                                          195881\n",
              "Elevation Loss                                                          195280\n",
              "Elevation Low                                                          43442.9\n",
              "Elevation High                                                          120692\n",
              "Max Grade                                                              5032.08\n",
              "Average Grade                                                         -2.30651\n",
              "Calories                                                                 98902\n",
              "Perceived Exertion                                                        1531\n",
              "Perceived Relative Effort                                                35634\n",
              "dtype: object"
            ]
          },
          "metadata": {},
          "execution_count": 21
        }
      ]
    },
    {
      "cell_type": "code",
      "source": [
        "# sum of bike data\n",
        "activities_df[activities_df['Activity Type'] == 'Ride'].sum()"
      ],
      "metadata": {
        "colab": {
          "base_uri": "https://localhost:8080/"
        },
        "id": "ppTZH_Hm8_Q-",
        "outputId": "991505bf-48ae-4b40-99be-8ec13ad31c62"
      },
      "execution_count": 22,
      "outputs": [
        {
          "output_type": "execute_result",
          "data": {
            "text/plain": [
              "Activity ID                                                        90594882152\n",
              "Activity Type                RideRideRideRideRideRideRideRideRideRideRideRi...\n",
              "Elapsed Time                                                           2603.85\n",
              "Distance                                                               483.312\n",
              "Max Speed                                                              281.672\n",
              "Average Speed                                                          93.4108\n",
              "Elevation Gain                                                         39928.2\n",
              "Elevation Loss                                                           39484\n",
              "Elevation Low                                                          14425.5\n",
              "Elevation High                                                           25936\n",
              "Max Grade                                                              374.962\n",
              "Average Grade                                                         0.317965\n",
              "Calories                                                                     0\n",
              "Perceived Exertion                                                         103\n",
              "Perceived Relative Effort                                                 4305\n",
              "dtype: object"
            ]
          },
          "metadata": {},
          "execution_count": 22
        }
      ]
    },
    {
      "cell_type": "code",
      "source": [
        "# longest run\n",
        "activities_df[activities_df['Activity Type'] == 'Run'].max()"
      ],
      "metadata": {
        "colab": {
          "base_uri": "https://localhost:8080/"
        },
        "id": "wz_MeaIa9Xy3",
        "outputId": "5442b87a-eafa-4583-ee27-dff6bdfab1aa"
      },
      "execution_count": 23,
      "outputs": [
        {
          "output_type": "execute_result",
          "data": {
            "text/plain": [
              "Activity ID                  6453199183\n",
              "Activity Type                       Run\n",
              "Elapsed Time                    464.733\n",
              "Distance                        31.7812\n",
              "Max Speed                       21.5308\n",
              "Average Speed                   4.95201\n",
              "Elevation Gain                  4560.71\n",
              "Elevation Loss                  4568.91\n",
              "Elevation Low                   6652.89\n",
              "Elevation High                  6885.17\n",
              "Max Grade                            50\n",
              "Average Grade                 0.0954654\n",
              "Calories                           2368\n",
              "Perceived Exertion                    9\n",
              "Perceived Relative Effort           732\n",
              "dtype: object"
            ]
          },
          "metadata": {},
          "execution_count": 23
        }
      ]
    },
    {
      "cell_type": "code",
      "source": [
        "# longest ride\n",
        "activities_df[activities_df['Activity Type'] == 'Ride'].max()"
      ],
      "metadata": {
        "id": "FBxOghUV9jqg",
        "outputId": "12480bbd-743f-4db1-9a90-cb23bdb9295d",
        "colab": {
          "base_uri": "https://localhost:8080/"
        }
      },
      "execution_count": 24,
      "outputs": [
        {
          "output_type": "execute_result",
          "data": {
            "text/plain": [
              "Activity ID                  6314894348\n",
              "Activity Type                      Ride\n",
              "Elapsed Time                     699.75\n",
              "Distance                        87.1125\n",
              "Max Speed                          20.7\n",
              "Average Speed                    7.8865\n",
              "Elevation Gain                  5200.76\n",
              "Elevation Loss                  5200.75\n",
              "Elevation Low                   6740.49\n",
              "Elevation High                  7209.65\n",
              "Max Grade                          48.1\n",
              "Average Grade                  0.235899\n",
              "Calories                            NaN\n",
              "Perceived Exertion                    9\n",
              "Perceived Relative Effort          1012\n",
              "dtype: object"
            ]
          },
          "metadata": {},
          "execution_count": 24
        }
      ]
    },
    {
      "cell_type": "code",
      "source": [
        "activities_df.info()"
      ],
      "metadata": {
        "colab": {
          "base_uri": "https://localhost:8080/"
        },
        "id": "GW1viBFTrEUo",
        "outputId": "0238d1af-a27e-4565-f629-79b480f9dd9d"
      },
      "execution_count": 25,
      "outputs": [
        {
          "output_type": "stream",
          "name": "stdout",
          "text": [
            "<class 'pandas.core.frame.DataFrame'>\n",
            "DatetimeIndex: 290 entries, 2021-01-01 19:06:13 to 2021-12-31 16:37:36\n",
            "Data columns (total 15 columns):\n",
            " #   Column                     Non-Null Count  Dtype  \n",
            "---  ------                     --------------  -----  \n",
            " 0   Activity ID                290 non-null    int64  \n",
            " 1   Activity Type              290 non-null    object \n",
            " 2   Elapsed Time               290 non-null    float64\n",
            " 3   Distance                   290 non-null    float64\n",
            " 4   Max Speed                  286 non-null    float64\n",
            " 5   Average Speed              290 non-null    float64\n",
            " 6   Elevation Gain             286 non-null    float64\n",
            " 7   Elevation Loss             286 non-null    float64\n",
            " 8   Elevation Low              286 non-null    float64\n",
            " 9   Elevation High             286 non-null    float64\n",
            " 10  Max Grade                  286 non-null    float64\n",
            " 11  Average Grade              290 non-null    float64\n",
            " 12  Calories                   101 non-null    float64\n",
            " 13  Perceived Exertion         287 non-null    float64\n",
            " 14  Perceived Relative Effort  287 non-null    float64\n",
            "dtypes: float64(13), int64(1), object(1)\n",
            "memory usage: 36.2+ KB\n"
          ]
        }
      ]
    },
    {
      "cell_type": "markdown",
      "source": [
        "# Importing, cleaning local legends segments df"
      ],
      "metadata": {
        "id": "HkZoz4UUf6W2"
      }
    },
    {
      "cell_type": "code",
      "source": [
        "local_legends_segments_df = pd.read_csv(local_legends_segments_path)"
      ],
      "metadata": {
        "id": "ZJr1lEbR3KEy"
      },
      "execution_count": 26,
      "outputs": []
    },
    {
      "cell_type": "code",
      "source": [
        "print(local_legends_segments_df)"
      ],
      "metadata": {
        "colab": {
          "base_uri": "https://localhost:8080/"
        },
        "id": "hRbWDN0TgPB1",
        "outputId": "5eeaeb5e-aff6-4c12-b567-18f7fa7ea5b4"
      },
      "execution_count": 27,
      "outputs": [
        {
          "output_type": "stream",
          "name": "stdout",
          "text": [
            "    Segment ID                 Segment Name\n",
            "0       784795             Trafton Rd Climb\n",
            "1      5265111                  Sheddsville\n",
            "2      6548500                      college\n",
            "3      8396145                        Kings\n",
            "4      8691292             Cypress St Climb\n",
            "5      8691298             Abbott St Ascent\n",
            "6     13421564                       Barton\n",
            "7     21915885     Pawtucket Avenue (North)\n",
            "8     22788662       Lower Cypress Downhill\n",
            "9     23961262         Wobble up the Cobble\n",
            "10    25261378  ROGUE OVERLAND - Segment #2\n",
            "11    28533121               BH to Cemetery\n"
          ]
        }
      ]
    },
    {
      "cell_type": "markdown",
      "source": [
        "# Importing, cleaning kudos df"
      ],
      "metadata": {
        "id": "-6sG6z_Ng-sO"
      }
    },
    {
      "cell_type": "code",
      "source": [
        "# reading kudos into pandas\n",
        "kudos_df = pd.read_csv(kudos_path)"
      ],
      "metadata": {
        "id": "PRsIh670gSum"
      },
      "execution_count": 28,
      "outputs": []
    },
    {
      "cell_type": "code",
      "source": [
        "# changing the kudos date col to datetime\n",
        "kudos_df['Kudos Date'] = pd.to_datetime(kudos_df['Kudos Date'])"
      ],
      "metadata": {
        "id": "90uni4KSjoRk"
      },
      "execution_count": 29,
      "outputs": []
    },
    {
      "cell_type": "code",
      "source": [
        "# filtering the kudos date to only 2021\n",
        "kudos_df = kudos_df[kudos_df['Kudos Date'] > '2021-01-01']"
      ],
      "metadata": {
        "id": "j1A-eUx2jU4Z"
      },
      "execution_count": 30,
      "outputs": []
    },
    {
      "cell_type": "code",
      "source": [
        "# setting the index to kudos date\n",
        "kudos_df.set_index('Kudos Date', inplace = True)"
      ],
      "metadata": {
        "id": "TIYILiiGkV8m"
      },
      "execution_count": 31,
      "outputs": []
    },
    {
      "cell_type": "code",
      "source": [
        "print(kudos_df.head(10))"
      ],
      "metadata": {
        "colab": {
          "base_uri": "https://localhost:8080/"
        },
        "id": "BKHSR_JSg2nU",
        "outputId": "62c41d98-89f2-4e57-aa22-7c1fc44e157c"
      },
      "execution_count": 32,
      "outputs": [
        {
          "output_type": "stream",
          "name": "stdout",
          "text": [
            "                    Kudos Type   Parent ID\n",
            "Kudos Date                                \n",
            "2021-01-03 18:15:53   Activity  4557471533\n",
            "2021-01-11 14:41:43   Activity  4601576163\n",
            "2021-01-11 14:41:53   Activity  4601235756\n",
            "2021-01-15 18:59:46   Activity  4621176515\n",
            "2021-01-18 00:28:34   Activity  4632648762\n",
            "2021-01-18 00:29:07   Activity  4631905956\n",
            "2021-01-18 00:29:09   Activity  4632190150\n",
            "2021-01-18 01:22:35   Activity  4638698280\n",
            "2021-01-19 00:16:22   Activity  4644196837\n",
            "2021-01-19 00:16:26   Activity  4643820879\n"
          ]
        }
      ]
    },
    {
      "cell_type": "markdown",
      "source": [
        "# Downloading modified files"
      ],
      "metadata": {
        "id": "O13eyhOkMDWt"
      }
    },
    {
      "cell_type": "code",
      "source": [
        "from google.colab import files\n",
        "\n",
        "activities_df.to_csv('activities_df.csv')\n",
        "local_legends_segments_df.to_csv('local_legends_segments_df.csv')\n",
        "kudos_df.to_csv('kudos_df.csv')\n",
        "\n",
        "\n",
        "files.download('activities_df.csv')\n",
        "files.download('local_legends_segments_df.csv')\n",
        "files.download('kudos_df.csv')"
      ],
      "metadata": {
        "colab": {
          "base_uri": "https://localhost:8080/",
          "height": 17
        },
        "id": "X39-uavtGM4E",
        "outputId": "56d823d2-628e-49a7-89c0-3961e91301f8"
      },
      "execution_count": 34,
      "outputs": [
        {
          "output_type": "display_data",
          "data": {
            "application/javascript": [
              "\n",
              "    async function download(id, filename, size) {\n",
              "      if (!google.colab.kernel.accessAllowed) {\n",
              "        return;\n",
              "      }\n",
              "      const div = document.createElement('div');\n",
              "      const label = document.createElement('label');\n",
              "      label.textContent = `Downloading \"${filename}\": `;\n",
              "      div.appendChild(label);\n",
              "      const progress = document.createElement('progress');\n",
              "      progress.max = size;\n",
              "      div.appendChild(progress);\n",
              "      document.body.appendChild(div);\n",
              "\n",
              "      const buffers = [];\n",
              "      let downloaded = 0;\n",
              "\n",
              "      const channel = await google.colab.kernel.comms.open(id);\n",
              "      // Send a message to notify the kernel that we're ready.\n",
              "      channel.send({})\n",
              "\n",
              "      for await (const message of channel.messages) {\n",
              "        // Send a message to notify the kernel that we're ready.\n",
              "        channel.send({})\n",
              "        if (message.buffers) {\n",
              "          for (const buffer of message.buffers) {\n",
              "            buffers.push(buffer);\n",
              "            downloaded += buffer.byteLength;\n",
              "            progress.value = downloaded;\n",
              "          }\n",
              "        }\n",
              "      }\n",
              "      const blob = new Blob(buffers, {type: 'application/binary'});\n",
              "      const a = document.createElement('a');\n",
              "      a.href = window.URL.createObjectURL(blob);\n",
              "      a.download = filename;\n",
              "      div.appendChild(a);\n",
              "      a.click();\n",
              "      div.remove();\n",
              "    }\n",
              "  "
            ],
            "text/plain": [
              "<IPython.core.display.Javascript object>"
            ]
          },
          "metadata": {}
        },
        {
          "output_type": "display_data",
          "data": {
            "application/javascript": [
              "download(\"download_f45d2f55-2945-4610-9aaa-123159645bc8\", \"activities_df.csv\", 59866)"
            ],
            "text/plain": [
              "<IPython.core.display.Javascript object>"
            ]
          },
          "metadata": {}
        },
        {
          "output_type": "display_data",
          "data": {
            "application/javascript": [
              "\n",
              "    async function download(id, filename, size) {\n",
              "      if (!google.colab.kernel.accessAllowed) {\n",
              "        return;\n",
              "      }\n",
              "      const div = document.createElement('div');\n",
              "      const label = document.createElement('label');\n",
              "      label.textContent = `Downloading \"${filename}\": `;\n",
              "      div.appendChild(label);\n",
              "      const progress = document.createElement('progress');\n",
              "      progress.max = size;\n",
              "      div.appendChild(progress);\n",
              "      document.body.appendChild(div);\n",
              "\n",
              "      const buffers = [];\n",
              "      let downloaded = 0;\n",
              "\n",
              "      const channel = await google.colab.kernel.comms.open(id);\n",
              "      // Send a message to notify the kernel that we're ready.\n",
              "      channel.send({})\n",
              "\n",
              "      for await (const message of channel.messages) {\n",
              "        // Send a message to notify the kernel that we're ready.\n",
              "        channel.send({})\n",
              "        if (message.buffers) {\n",
              "          for (const buffer of message.buffers) {\n",
              "            buffers.push(buffer);\n",
              "            downloaded += buffer.byteLength;\n",
              "            progress.value = downloaded;\n",
              "          }\n",
              "        }\n",
              "      }\n",
              "      const blob = new Blob(buffers, {type: 'application/binary'});\n",
              "      const a = document.createElement('a');\n",
              "      a.href = window.URL.createObjectURL(blob);\n",
              "      a.download = filename;\n",
              "      div.appendChild(a);\n",
              "      a.click();\n",
              "      div.remove();\n",
              "    }\n",
              "  "
            ],
            "text/plain": [
              "<IPython.core.display.Javascript object>"
            ]
          },
          "metadata": {}
        },
        {
          "output_type": "display_data",
          "data": {
            "application/javascript": [
              "download(\"download_c3da2ee2-c27f-413c-a50f-cfe6c6a90c7c\", \"local_legends_segments_df.csv\", 348)"
            ],
            "text/plain": [
              "<IPython.core.display.Javascript object>"
            ]
          },
          "metadata": {}
        },
        {
          "output_type": "display_data",
          "data": {
            "application/javascript": [
              "\n",
              "    async function download(id, filename, size) {\n",
              "      if (!google.colab.kernel.accessAllowed) {\n",
              "        return;\n",
              "      }\n",
              "      const div = document.createElement('div');\n",
              "      const label = document.createElement('label');\n",
              "      label.textContent = `Downloading \"${filename}\": `;\n",
              "      div.appendChild(label);\n",
              "      const progress = document.createElement('progress');\n",
              "      progress.max = size;\n",
              "      div.appendChild(progress);\n",
              "      document.body.appendChild(div);\n",
              "\n",
              "      const buffers = [];\n",
              "      let downloaded = 0;\n",
              "\n",
              "      const channel = await google.colab.kernel.comms.open(id);\n",
              "      // Send a message to notify the kernel that we're ready.\n",
              "      channel.send({})\n",
              "\n",
              "      for await (const message of channel.messages) {\n",
              "        // Send a message to notify the kernel that we're ready.\n",
              "        channel.send({})\n",
              "        if (message.buffers) {\n",
              "          for (const buffer of message.buffers) {\n",
              "            buffers.push(buffer);\n",
              "            downloaded += buffer.byteLength;\n",
              "            progress.value = downloaded;\n",
              "          }\n",
              "        }\n",
              "      }\n",
              "      const blob = new Blob(buffers, {type: 'application/binary'});\n",
              "      const a = document.createElement('a');\n",
              "      a.href = window.URL.createObjectURL(blob);\n",
              "      a.download = filename;\n",
              "      div.appendChild(a);\n",
              "      a.click();\n",
              "      div.remove();\n",
              "    }\n",
              "  "
            ],
            "text/plain": [
              "<IPython.core.display.Javascript object>"
            ]
          },
          "metadata": {}
        },
        {
          "output_type": "display_data",
          "data": {
            "application/javascript": [
              "download(\"download_66c58cb7-1d8f-486f-af07-02eaad40a2ba\", \"kudos_df.csv\", 62626)"
            ],
            "text/plain": [
              "<IPython.core.display.Javascript object>"
            ]
          },
          "metadata": {}
        }
      ]
    },
    {
      "cell_type": "code",
      "source": [
        ""
      ],
      "metadata": {
        "id": "3NdxRh3NLdS9"
      },
      "execution_count": null,
      "outputs": []
    }
  ]
}