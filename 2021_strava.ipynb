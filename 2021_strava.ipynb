{
  "nbformat": 4,
  "nbformat_minor": 0,
  "metadata": {
    "colab": {
      "name": "2021_strava.ipynb",
      "provenance": [],
      "authorship_tag": "ABX9TyMxYBnj7TjEgGTlKG6Plaey",
      "include_colab_link": true
    },
    "kernelspec": {
      "name": "python3",
      "display_name": "Python 3"
    },
    "language_info": {
      "name": "python"
    }
  },
  "cells": [
    {
      "cell_type": "markdown",
      "metadata": {
        "id": "view-in-github",
        "colab_type": "text"
      },
      "source": [
        "<a href=\"https://colab.research.google.com/github/cmannnn/2021_strava/blob/main/2021_strava.ipynb\" target=\"_parent\"><img src=\"https://colab.research.google.com/assets/colab-badge.svg\" alt=\"Open In Colab\"/></a>"
      ]
    },
    {
      "cell_type": "code",
      "execution_count": 1,
      "metadata": {
        "id": "3U8f5wlT0YfA"
      },
      "outputs": [],
      "source": [
        "# imports\n",
        "import pandas as pd\n",
        "import matplotlib.pyplot as plt\n",
        "import seaborn as sns\n",
        "# plt.style.use('ggplot')\n",
        "# sns.set_style('darkgrid')"
      ]
    },
    {
      "cell_type": "code",
      "source": [
        "# mounting google drive\n",
        "from google.colab import drive\n",
        "drive.mount('/content/drive')"
      ],
      "metadata": {
        "colab": {
          "base_uri": "https://localhost:8080/"
        },
        "id": "ZMytbzAt3w6o",
        "outputId": "e1738eea-cf1e-4241-da97-a73b3475db8d"
      },
      "execution_count": 2,
      "outputs": [
        {
          "output_type": "stream",
          "name": "stdout",
          "text": [
            "Mounted at /content/drive\n"
          ]
        }
      ]
    },
    {
      "cell_type": "code",
      "source": [
        "# setting the path of each interesting CSV\n",
        "activities_path = \"/content/drive/MyDrive/Colabby Krabby Paddy/2021_strava/2021_strava/activities.csv\"\n",
        "local_legends_segments_path = \"/content/drive/MyDrive/Colabby Krabby Paddy/2021_strava/2021_strava/local_legend_segments.csv\"\n",
        "kudos_path = \"/content/drive/MyDrive/Colabby Krabby Paddy/2021_strava/2021_strava/kudos.csv\"\n",
        "segments_path = \"/content/drive/MyDrive/Colabby Krabby Paddy/2021_strava/2021_strava/segments.csv\""
      ],
      "metadata": {
        "id": "ZNqzdsV85KJr"
      },
      "execution_count": 3,
      "outputs": []
    },
    {
      "cell_type": "code",
      "source": [
        "# reading in activities data\n",
        "activities_df = pd.read_csv(activities_path, parse_dates = True)"
      ],
      "metadata": {
        "id": "XK2jOAwl6O6d"
      },
      "execution_count": 4,
      "outputs": []
    },
    {
      "cell_type": "code",
      "source": [
        "# columns to drop from activities_df\n",
        "cols_to_drop = ['Activity Description', 'Max Heart Rate', 'Relative Effort', 'Commute', 'Activity Gear', 'Filename', 'Athlete Weight', \n",
        "                'Bike Weight', 'Elapsed Time.1', 'Moving Time', 'Distance.1', 'Average Positive Grade', 'Average Negative Grade',\n",
        "                'Max Cadence', 'Average Cadence', 'Max Heart Rate.1', 'Average Heart Rate', 'Max Watts', 'Average Watts', 'Max Temperature',\n",
        "                'Average Temperature', 'Relative Effort.1', 'Total Work', 'Number of Runs', 'Uphill Time', 'Downhill Time', 'Other Time',\n",
        "                '<span class=\"translation_missing\" title=\"translation missing: en-US.lib.export.portability_exporter.activities.horton_values.start_time\">Start Time</span>',\n",
        "                'Weighted Average Power', 'Power Count', 'Prefer Perceived Exertion', 'Commute.1', 'Total Weight Lifted', 'From Upload', 'Grade Adjusted Distance',\n",
        "                'Weather Observation Time', 'Weather Condition', 'Weather Temperature', 'Apparent Temperature', 'Dewpoint', 'Humidity', 'Weather Pressure',\n",
        "                'Wind Speed', 'Wind Gust', 'Wind Bearing', 'Precipitation Intensity', 'Sunset Time', 'Moon Phase', 'Bike', 'Gear', 'Precipitation Probability', \n",
        "                'Precipitation Type', 'Cloud Cover', 'Weather Visibility', 'UV Index', 'Weather Ozone', 'Sunrise Time', 'Activity Name',\n",
        "                '<span class=\"translation_missing\" title=\"translation missing: en-US.lib.export.portability_exporter.activities.horton_values.type\">Type</span>', \n",
        "                '<span class=\"translation_missing\" title=\"translation missing: en-US.lib.export.portability_exporter.activities.horton_values.jump_count\">Jump Count</span>',\n",
        "                '<span class=\"translation_missing\" title=\"translation missing: en-US.lib.export.portability_exporter.activities.horton_values.total_grit\">Total Grit</span>',\n",
        "                '<span class=\"translation_missing\" title=\"translation missing: en-US.lib.export.portability_exporter.activities.horton_values.avg_flow\">Avg Flow</span>',\n",
        "                '<span class=\"translation_missing\" title=\"translation missing: en-US.lib.export.portability_exporter.activities.horton_values.flagged\">Flagged</span>',\n",
        "                '<span class=\"translation_missing\" title=\"translation missing: en-US.lib.export.portability_exporter.activities.horton_values.avg_elapsed_speed\">Avg Elapsed Speed</span>',\n",
        "                '<span class=\"translation_missing\" title=\"translation missing: en-US.lib.export.portability_exporter.activities.horton_values.dirt_distance\">Dirt Distance</span>',\n",
        "                '<span class=\"translation_missing\" title=\"translation missing: en-US.lib.export.portability_exporter.activities.horton_values.newly_explored_distance\">Newly Explored Distance</span>',\n",
        "                '<span class=\"translation_missing\" title=\"translation missing: en-US.lib.export.portability_exporter.activities.horton_values.newly_explored_dirt_distance\">Newly Explored Dirt Distance</span>',\n",
        "                ]"
      ],
      "metadata": {
        "id": "BsahjImT99YK"
      },
      "execution_count": 5,
      "outputs": []
    },
    {
      "cell_type": "code",
      "source": [
        "# dropping the columns\n",
        "activities_df.drop(axis=1, columns = cols_to_drop, inplace = True)"
      ],
      "metadata": {
        "id": "y3Wss5cR-cqh"
      },
      "execution_count": 6,
      "outputs": []
    },
    {
      "cell_type": "code",
      "source": [
        "# checking correct columns were dropped\n",
        "print(activities_df.columns)"
      ],
      "metadata": {
        "colab": {
          "base_uri": "https://localhost:8080/"
        },
        "id": "F4l8zDfy7o-b",
        "outputId": "cbf73a85-1d28-467a-fdfc-24f929e18eba"
      },
      "execution_count": 7,
      "outputs": [
        {
          "output_type": "stream",
          "name": "stdout",
          "text": [
            "Index(['Activity ID', 'Activity Date', 'Activity Type', 'Elapsed Time',\n",
            "       'Distance', 'Max Speed', 'Average Speed', 'Elevation Gain',\n",
            "       'Elevation Loss', 'Elevation Low', 'Elevation High', 'Max Grade',\n",
            "       'Average Grade', 'Calories', 'Perceived Exertion',\n",
            "       'Perceived Relative Effort'],\n",
            "      dtype='object')\n"
          ]
        }
      ]
    },
    {
      "cell_type": "code",
      "source": [
        "print(activities_df['Activity Date'].head())"
      ],
      "metadata": {
        "colab": {
          "base_uri": "https://localhost:8080/"
        },
        "id": "Jx1fKClaYXXL",
        "outputId": "87b09374-3ba3-448d-e9a1-ab12718efa1c"
      },
      "execution_count": 8,
      "outputs": [
        {
          "output_type": "stream",
          "name": "stdout",
          "text": [
            "0    Jun 28, 2020, 5:03:05 PM\n",
            "1    Jun 29, 2020, 9:42:34 PM\n",
            "2    Jun 30, 2020, 9:01:11 PM\n",
            "3     Jul 1, 2020, 8:38:04 PM\n",
            "4     Jul 3, 2020, 1:44:58 PM\n",
            "Name: Activity Date, dtype: object\n"
          ]
        }
      ]
    },
    {
      "cell_type": "code",
      "source": [
        "# changing activity date column to datetime\n",
        "activities_df['Activity Date'] = pd.to_datetime(activities_df['Activity Date'])"
      ],
      "metadata": {
        "id": "zHSYDaxMX1Vo"
      },
      "execution_count": 9,
      "outputs": []
    },
    {
      "cell_type": "code",
      "source": [
        "# checking the data types of each column\n",
        "print(activities_df.dtypes)"
      ],
      "metadata": {
        "colab": {
          "base_uri": "https://localhost:8080/"
        },
        "id": "vAX6XEtJUeTi",
        "outputId": "8773c9ea-9262-4f7a-a3e1-fd285b7911d7"
      },
      "execution_count": 10,
      "outputs": [
        {
          "output_type": "stream",
          "name": "stdout",
          "text": [
            "Activity ID                           int64\n",
            "Activity Date                datetime64[ns]\n",
            "Activity Type                        object\n",
            "Elapsed Time                          int64\n",
            "Distance                             object\n",
            "Max Speed                           float64\n",
            "Average Speed                       float64\n",
            "Elevation Gain                      float64\n",
            "Elevation Loss                      float64\n",
            "Elevation Low                       float64\n",
            "Elevation High                      float64\n",
            "Max Grade                           float64\n",
            "Average Grade                       float64\n",
            "Calories                            float64\n",
            "Perceived Exertion                  float64\n",
            "Perceived Relative Effort           float64\n",
            "dtype: object\n"
          ]
        }
      ]
    },
    {
      "cell_type": "code",
      "source": [
        "print(activities_df['Activity Date'].head())"
      ],
      "metadata": {
        "colab": {
          "base_uri": "https://localhost:8080/"
        },
        "id": "JP9vtKQRZFuw",
        "outputId": "82a9e79d-53dc-4d41-c56a-2fd2db56077e"
      },
      "execution_count": 11,
      "outputs": [
        {
          "output_type": "stream",
          "name": "stdout",
          "text": [
            "0   2020-06-28 17:03:05\n",
            "1   2020-06-29 21:42:34\n",
            "2   2020-06-30 21:01:11\n",
            "3   2020-07-01 20:38:04\n",
            "4   2020-07-03 13:44:58\n",
            "Name: Activity Date, dtype: datetime64[ns]\n"
          ]
        }
      ]
    },
    {
      "cell_type": "code",
      "source": [
        "activities_df = activities_df[activities_df['Activity Date'] > '2021-01-01']"
      ],
      "metadata": {
        "id": "0btRRCTOTkFO"
      },
      "execution_count": 12,
      "outputs": []
    },
    {
      "cell_type": "code",
      "source": [
        "activities_df.set_index('Activity Date', inplace = True)"
      ],
      "metadata": {
        "id": "dvoCGSnFeMrM"
      },
      "execution_count": 13,
      "outputs": []
    },
    {
      "cell_type": "code",
      "source": [
        "print(activities_df['Elapsed Time'].head())"
      ],
      "metadata": {
        "colab": {
          "base_uri": "https://localhost:8080/"
        },
        "id": "g-vvw2LWc7_b",
        "outputId": "a43d91dc-90fe-461b-8598-813e3a9b1145"
      },
      "execution_count": 14,
      "outputs": [
        {
          "output_type": "stream",
          "name": "stdout",
          "text": [
            "Activity Date\n",
            "2021-01-01 19:06:13    8439\n",
            "2021-01-03 18:17:59    3473\n",
            "2021-01-10 20:19:44    1756\n",
            "2021-01-11 20:40:51    1935\n",
            "2021-01-12 20:35:44    2065\n",
            "Name: Elapsed Time, dtype: int64\n"
          ]
        }
      ]
    },
    {
      "cell_type": "code",
      "source": [
        "activities_df['Elapsed Time'] = activities_df['Elapsed Time'] / 60"
      ],
      "metadata": {
        "id": "h28rWb-yeAIW"
      },
      "execution_count": 15,
      "outputs": []
    },
    {
      "cell_type": "code",
      "source": [
        "print(activities_df.head())"
      ],
      "metadata": {
        "colab": {
          "base_uri": "https://localhost:8080/"
        },
        "id": "mvvGtgoFeqBO",
        "outputId": "245bb21b-4c3e-40c1-eaca-76fef5367916"
      },
      "execution_count": 17,
      "outputs": [
        {
          "output_type": "stream",
          "name": "stdout",
          "text": [
            "                     Activity ID  ... Perceived Relative Effort\n",
            "Activity Date                     ...                          \n",
            "2021-01-01 19:06:13   4551165027  ...                      67.0\n",
            "2021-01-03 18:17:59   4562526489  ...                      87.0\n",
            "2021-01-10 20:19:44   4600905750  ...                      29.0\n",
            "2021-01-11 20:40:51   4605651974  ...                      46.0\n",
            "2021-01-12 20:35:44   4610990847  ...                      34.0\n",
            "\n",
            "[5 rows x 15 columns]\n"
          ]
        }
      ]
    },
    {
      "cell_type": "code",
      "source": [
        "print(activities_df.columns)"
      ],
      "metadata": {
        "colab": {
          "base_uri": "https://localhost:8080/"
        },
        "id": "bHNGkCE0VKJA",
        "outputId": "8ea160b9-7985-420f-976d-7666751a7c5f"
      },
      "execution_count": 18,
      "outputs": [
        {
          "output_type": "stream",
          "name": "stdout",
          "text": [
            "Index(['Activity ID', 'Activity Type', 'Elapsed Time', 'Distance', 'Max Speed',\n",
            "       'Average Speed', 'Elevation Gain', 'Elevation Loss', 'Elevation Low',\n",
            "       'Elevation High', 'Max Grade', 'Average Grade', 'Calories',\n",
            "       'Perceived Exertion', 'Perceived Relative Effort'],\n",
            "      dtype='object')\n"
          ]
        }
      ]
    },
    {
      "cell_type": "code",
      "source": [
        "local_legends_segments_df = pd.read_csv(local_legends_segments_path)\n",
        "print(local_legends_segments_df.head())"
      ],
      "metadata": {
        "colab": {
          "base_uri": "https://localhost:8080/"
        },
        "id": "kkWt3m18652A",
        "outputId": "df9c6374-5cbd-4cff-b513-f16057dd0ad6"
      },
      "execution_count": 10,
      "outputs": [
        {
          "output_type": "stream",
          "name": "stdout",
          "text": [
            "   Segment ID      Segment Name\n",
            "0      784795  Trafton Rd Climb\n",
            "1     5265111       Sheddsville\n",
            "2     6548500           college\n",
            "3     8396145             Kings\n",
            "4     8691292  Cypress St Climb\n"
          ]
        }
      ]
    },
    {
      "cell_type": "code",
      "source": [
        ""
      ],
      "metadata": {
        "id": "ZJr1lEbR3KEy"
      },
      "execution_count": null,
      "outputs": []
    }
  ]
}