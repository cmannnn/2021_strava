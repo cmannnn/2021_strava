{
  "nbformat": 4,
  "nbformat_minor": 0,
  "metadata": {
    "colab": {
      "name": "2021_strava.ipynb",
      "provenance": [],
      "authorship_tag": "ABX9TyOaRJqJGjNwqHn2qOXcfyHM",
      "include_colab_link": true
    },
    "kernelspec": {
      "name": "python3",
      "display_name": "Python 3"
    },
    "language_info": {
      "name": "python"
    }
  },
  "cells": [
    {
      "cell_type": "markdown",
      "metadata": {
        "id": "view-in-github",
        "colab_type": "text"
      },
      "source": [
        "<a href=\"https://colab.research.google.com/github/cmannnn/2021_strava/blob/main/2021_strava.ipynb\" target=\"_parent\"><img src=\"https://colab.research.google.com/assets/colab-badge.svg\" alt=\"Open In Colab\"/></a>"
      ]
    },
    {
      "cell_type": "code",
      "execution_count": 1,
      "metadata": {
        "id": "3U8f5wlT0YfA"
      },
      "outputs": [],
      "source": [
        "# imports\n",
        "import pandas as pd\n",
        "import matplotlib.pyplot as plt\n",
        "import seaborn as sns\n",
        "# plt.style.use('ggplot')\n",
        "# sns.set_style('darkgrid')"
      ]
    },
    {
      "cell_type": "code",
      "source": [
        "from google.colab import drive\n",
        "drive.mount('/content/drive')"
      ],
      "metadata": {
        "colab": {
          "base_uri": "https://localhost:8080/"
        },
        "id": "ZMytbzAt3w6o",
        "outputId": "576d5180-0aab-439b-fcd3-f423d0595e0b"
      },
      "execution_count": 2,
      "outputs": [
        {
          "output_type": "stream",
          "name": "stdout",
          "text": [
            "Mounted at /content/drive\n"
          ]
        }
      ]
    },
    {
      "cell_type": "code",
      "source": [
        "activities_path = \"/content/drive/MyDrive/Colabby Krabby Paddy/2021_strava/2021_strava/activities.csv\"\n",
        "local_legends_segments_path = \"/content/drive/MyDrive/Colabby Krabby Paddy/2021_strava/2021_strava/local_legend_segments.csv\"\n",
        "kudos_path = \"/content/drive/MyDrive/Colabby Krabby Paddy/2021_strava/2021_strava/kudos.csv\"\n",
        "segments_path = \"/content/drive/MyDrive/Colabby Krabby Paddy/2021_strava/2021_strava/segments.csv\""
      ],
      "metadata": {
        "id": "ZNqzdsV85KJr"
      },
      "execution_count": 3,
      "outputs": []
    },
    {
      "cell_type": "code",
      "source": [
        "activities_df = pd.read_csv(activities_path, parse_dates = True)\n",
        "print(activities_df.columns)"
      ],
      "metadata": {
        "colab": {
          "base_uri": "https://localhost:8080/"
        },
        "id": "XK2jOAwl6O6d",
        "outputId": "a5813144-b12d-42fa-9687-67fa04e1f75e"
      },
      "execution_count": 4,
      "outputs": [
        {
          "output_type": "stream",
          "name": "stdout",
          "text": [
            "Index(['Activity ID', 'Activity Name', 'Activity Type', 'Activity Description',\n",
            "       'Elapsed Time', 'Distance', 'Max Heart Rate', 'Relative Effort',\n",
            "       'Commute', 'Activity Gear', 'Filename', 'Athlete Weight', 'Bike Weight',\n",
            "       'Elapsed Time.1', 'Moving Time', 'Distance.1', 'Max Speed',\n",
            "       'Average Speed', 'Elevation Gain', 'Elevation Loss', 'Elevation Low',\n",
            "       'Elevation High', 'Max Grade', 'Average Grade',\n",
            "       'Average Positive Grade', 'Average Negative Grade', 'Max Cadence',\n",
            "       'Average Cadence', 'Max Heart Rate.1', 'Average Heart Rate',\n",
            "       'Max Watts', 'Average Watts', 'Calories', 'Max Temperature',\n",
            "       'Average Temperature', 'Relative Effort.1', 'Total Work',\n",
            "       'Number of Runs', 'Uphill Time', 'Downhill Time', 'Other Time',\n",
            "       'Perceived Exertion',\n",
            "       '<span class=\"translation_missing\" title=\"translation missing: en-US.lib.export.portability_exporter.activities.horton_values.type\">Type</span>',\n",
            "       '<span class=\"translation_missing\" title=\"translation missing: en-US.lib.export.portability_exporter.activities.horton_values.start_time\">Start Time</span>',\n",
            "       'Weighted Average Power', 'Power Count', 'Prefer Perceived Exertion',\n",
            "       'Perceived Relative Effort', 'Commute.1', 'Total Weight Lifted',\n",
            "       'From Upload', 'Grade Adjusted Distance', 'Weather Observation Time',\n",
            "       'Weather Condition', 'Weather Temperature', 'Apparent Temperature',\n",
            "       'Dewpoint', 'Humidity', 'Weather Pressure', 'Wind Speed', 'Wind Gust',\n",
            "       'Wind Bearing', 'Precipitation Intensity', 'Sunrise Time',\n",
            "       'Sunset Time', 'Moon Phase', 'Bike', 'Gear',\n",
            "       'Precipitation Probability', 'Precipitation Type', 'Cloud Cover',\n",
            "       'Weather Visibility', 'UV Index', 'Weather Ozone',\n",
            "       '<span class=\"translation_missing\" title=\"translation missing: en-US.lib.export.portability_exporter.activities.horton_values.jump_count\">Jump Count</span>',\n",
            "       '<span class=\"translation_missing\" title=\"translation missing: en-US.lib.export.portability_exporter.activities.horton_values.total_grit\">Total Grit</span>',\n",
            "       '<span class=\"translation_missing\" title=\"translation missing: en-US.lib.export.portability_exporter.activities.horton_values.avg_flow\">Avg Flow</span>',\n",
            "       '<span class=\"translation_missing\" title=\"translation missing: en-US.lib.export.portability_exporter.activities.horton_values.flagged\">Flagged</span>',\n",
            "       '<span class=\"translation_missing\" title=\"translation missing: en-US.lib.export.portability_exporter.activities.horton_values.avg_elapsed_speed\">Avg Elapsed Speed</span>',\n",
            "       '<span class=\"translation_missing\" title=\"translation missing: en-US.lib.export.portability_exporter.activities.horton_values.dirt_distance\">Dirt Distance</span>',\n",
            "       '<span class=\"translation_missing\" title=\"translation missing: en-US.lib.export.portability_exporter.activities.horton_values.newly_explored_distance\">Newly Explored Distance</span>',\n",
            "       '<span class=\"translation_missing\" title=\"translation missing: en-US.lib.export.portability_exporter.activities.horton_values.newly_explored_dirt_distance\">Newly Explored Dirt Distance</span>'],\n",
            "      dtype='object')\n"
          ]
        }
      ]
    },
    {
      "cell_type": "markdown",
      "source": [
        "Notes:\n",
        "- elapsed time column in seconds, needs to be multliplied to get minutes\n",
        "- "
      ],
      "metadata": {
        "id": "zSQ3jpoy-Kmp"
      }
    },
    {
      "cell_type": "code",
      "source": [
        "cols_to_drop = ['Activity Description', 'Max Heart Rate', 'Relative Effort', 'Commute', 'Activity Gear', 'Filename', 'Athlete Weight', \n",
        "                'Bike Weight', 'Elapsed Time.1', 'Moving Time', 'Distance.1', 'Average Positive Grade', 'Average Negative Grade',\n",
        "                'Max Cadence', 'Average Cadence', 'Max Heart Rate.1', 'Average Heart Rate', 'Max Watts', 'Average Watts', 'Max Temperature',\n",
        "                'Average Temperature', 'Relative Effort.1', 'Total Work', 'Number of Runs', 'Uphill Time', 'Downhill Time', 'Other Time',\n",
        "                '<span class=\"translation_missing\" title=\"translation missing: en-US.lib.export.portability_exporter.activities.horton_values.start_time\">Start Time</span>',\n",
        "                'Weighted Average Power', 'Power Count', 'Prefer Perceived Exertion', 'Commute.1', 'Total Weight Lifted', 'From Upload', 'Grade Adjusted Distance',\n",
        "                'Weather Observation Time', 'Weather Condition', 'Weather Temperature', 'Apparent Temperature', 'Dewpoint', 'Humidity', 'Weather Pressure',\n",
        "                'Wind Speed', 'Wind Gust', 'Wind Bearing', 'Precipitation Intensity', 'Sunset Time', 'Moon Phase', 'Bike', 'Gear', 'Precipitation Probability', \n",
        "                'Precipitation Type', 'Cloud Cover', 'Weather Visibility', 'UV Index', 'Weather Ozone',\n",
        "                '<span class=\"translation_missing\" title=\"translation missing: en-US.lib.export.portability_exporter.activities.horton_values.type\">Type</span>', \n",
        "                '<span class=\"translation_missing\" title=\"translation missing: en-US.lib.export.portability_exporter.activities.horton_values.jump_count\">Jump Count</span>',\n",
        "                '<span class=\"translation_missing\" title=\"translation missing: en-US.lib.export.portability_exporter.activities.horton_values.total_grit\">Total Grit</span>',\n",
        "                '<span class=\"translation_missing\" title=\"translation missing: en-US.lib.export.portability_exporter.activities.horton_values.avg_flow\">Avg Flow</span>',\n",
        "                '<span class=\"translation_missing\" title=\"translation missing: en-US.lib.export.portability_exporter.activities.horton_values.flagged\">Flagged</span>',\n",
        "                '<span class=\"translation_missing\" title=\"translation missing: en-US.lib.export.portability_exporter.activities.horton_values.avg_elapsed_speed\">Avg Elapsed Speed</span>',\n",
        "                '<span class=\"translation_missing\" title=\"translation missing: en-US.lib.export.portability_exporter.activities.horton_values.dirt_distance\">Dirt Distance</span>',\n",
        "                '<span class=\"translation_missing\" title=\"translation missing: en-US.lib.export.portability_exporter.activities.horton_values.newly_explored_distance\">Newly Explored Distance</span>',\n",
        "                '<span class=\"translation_missing\" title=\"translation missing: en-US.lib.export.portability_exporter.activities.horton_values.newly_explored_dirt_distance\">Newly Explored Dirt Distance</span>',\n",
        "                ]"
      ],
      "metadata": {
        "id": "BsahjImT99YK"
      },
      "execution_count": 5,
      "outputs": []
    },
    {
      "cell_type": "code",
      "source": [
        "activities_df.drop(axis=1, columns = cols_to_drop, inplace = True)"
      ],
      "metadata": {
        "id": "y3Wss5cR-cqh"
      },
      "execution_count": 6,
      "outputs": []
    },
    {
      "cell_type": "code",
      "source": [
        "print(activities_df.columns)"
      ],
      "metadata": {
        "colab": {
          "base_uri": "https://localhost:8080/"
        },
        "id": "F4l8zDfy7o-b",
        "outputId": "d017ec31-ba71-45c0-a12d-92e30d4e5cc5"
      },
      "execution_count": 7,
      "outputs": [
        {
          "output_type": "stream",
          "name": "stdout",
          "text": [
            "Index(['Activity ID', 'Activity Name', 'Activity Type', 'Elapsed Time',\n",
            "       'Distance', 'Max Speed', 'Average Speed', 'Elevation Gain',\n",
            "       'Elevation Loss', 'Elevation Low', 'Elevation High', 'Max Grade',\n",
            "       'Average Grade', 'Calories', 'Perceived Exertion',\n",
            "       'Perceived Relative Effort', 'Sunrise Time'],\n",
            "      dtype='object')\n"
          ]
        }
      ]
    },
    {
      "cell_type": "code",
      "source": [
        "print(activities_df.dtypes)"
      ],
      "metadata": {
        "colab": {
          "base_uri": "https://localhost:8080/"
        },
        "id": "vAX6XEtJUeTi",
        "outputId": "e638c326-6c7c-4785-86fc-5d82f23940ea"
      },
      "execution_count": 14,
      "outputs": [
        {
          "output_type": "stream",
          "name": "stdout",
          "text": [
            "Activity ID                    int64\n",
            "Activity Name                 object\n",
            "Activity Type                 object\n",
            "Elapsed Time                   int64\n",
            "Distance                      object\n",
            "Max Speed                    float64\n",
            "Average Speed                float64\n",
            "Elevation Gain               float64\n",
            "Elevation Loss               float64\n",
            "Elevation Low                float64\n",
            "Elevation High               float64\n",
            "Max Grade                    float64\n",
            "Average Grade                float64\n",
            "Calories                     float64\n",
            "Perceived Exertion           float64\n",
            "Perceived Relative Effort    float64\n",
            "Sunrise Time                 float64\n",
            "dtype: object\n"
          ]
        }
      ]
    },
    {
      "cell_type": "code",
      "source": [
        "print(activities_df.head())"
      ],
      "metadata": {
        "colab": {
          "base_uri": "https://localhost:8080/"
        },
        "id": "bHNGkCE0VKJA",
        "outputId": "1bfae22c-0500-4cb8-993d-65b53a8f136b"
      },
      "execution_count": 15,
      "outputs": [
        {
          "output_type": "stream",
          "name": "stdout",
          "text": [
            "                     Activity ID  ... Sunrise Time\n",
            "Activity Date                     ...             \n",
            "2020-06-28 17:03:05   3685097064  ...          NaN\n",
            "2020-06-29 21:42:34   3690295300  ...          NaN\n",
            "2020-06-30 21:01:11   3695178692  ...          NaN\n",
            "2020-07-01 20:38:04   3700009444  ...          NaN\n",
            "2020-07-03 13:44:58   3707730760  ...          NaN\n",
            "\n",
            "[5 rows x 17 columns]\n"
          ]
        }
      ]
    },
    {
      "cell_type": "code",
      "source": [
        "activities_df.loc['2020-01-01':'2021-12-31']"
      ],
      "metadata": {
        "colab": {
          "base_uri": "https://localhost:8080/",
          "height": 918
        },
        "id": "0btRRCTOTkFO",
        "outputId": "5683c633-600e-468b-ffca-a272ef10e8ca"
      },
      "execution_count": 19,
      "outputs": [
        {
          "output_type": "execute_result",
          "data": {
            "text/html": [
              "\n",
              "  <div id=\"df-880590e1-8135-4cec-94aa-ef306dbbdbd2\">\n",
              "    <div class=\"colab-df-container\">\n",
              "      <div>\n",
              "<style scoped>\n",
              "    .dataframe tbody tr th:only-of-type {\n",
              "        vertical-align: middle;\n",
              "    }\n",
              "\n",
              "    .dataframe tbody tr th {\n",
              "        vertical-align: top;\n",
              "    }\n",
              "\n",
              "    .dataframe thead th {\n",
              "        text-align: right;\n",
              "    }\n",
              "</style>\n",
              "<table border=\"1\" class=\"dataframe\">\n",
              "  <thead>\n",
              "    <tr style=\"text-align: right;\">\n",
              "      <th></th>\n",
              "      <th>Activity ID</th>\n",
              "      <th>Activity Name</th>\n",
              "      <th>Activity Type</th>\n",
              "      <th>Elapsed Time</th>\n",
              "      <th>Distance</th>\n",
              "      <th>Max Speed</th>\n",
              "      <th>Average Speed</th>\n",
              "      <th>Elevation Gain</th>\n",
              "      <th>Elevation Loss</th>\n",
              "      <th>Elevation Low</th>\n",
              "      <th>Elevation High</th>\n",
              "      <th>Max Grade</th>\n",
              "      <th>Average Grade</th>\n",
              "      <th>Calories</th>\n",
              "      <th>Perceived Exertion</th>\n",
              "      <th>Perceived Relative Effort</th>\n",
              "      <th>Sunrise Time</th>\n",
              "    </tr>\n",
              "    <tr>\n",
              "      <th>Activity Date</th>\n",
              "      <th></th>\n",
              "      <th></th>\n",
              "      <th></th>\n",
              "      <th></th>\n",
              "      <th></th>\n",
              "      <th></th>\n",
              "      <th></th>\n",
              "      <th></th>\n",
              "      <th></th>\n",
              "      <th></th>\n",
              "      <th></th>\n",
              "      <th></th>\n",
              "      <th></th>\n",
              "      <th></th>\n",
              "      <th></th>\n",
              "      <th></th>\n",
              "      <th></th>\n",
              "    </tr>\n",
              "  </thead>\n",
              "  <tbody>\n",
              "    <tr>\n",
              "      <th>2020-06-28 17:03:05</th>\n",
              "      <td>3685097064</td>\n",
              "      <td>2020-06-28</td>\n",
              "      <td>Run</td>\n",
              "      <td>3195</td>\n",
              "      <td>10.83</td>\n",
              "      <td>4.800000</td>\n",
              "      <td>3.516418</td>\n",
              "      <td>74.301964</td>\n",
              "      <td>74.302002</td>\n",
              "      <td>27.799999</td>\n",
              "      <td>54.299999</td>\n",
              "      <td>15.900000</td>\n",
              "      <td>0.000000</td>\n",
              "      <td>NaN</td>\n",
              "      <td>6.0</td>\n",
              "      <td>81.0</td>\n",
              "      <td>NaN</td>\n",
              "    </tr>\n",
              "    <tr>\n",
              "      <th>2020-06-29 21:42:34</th>\n",
              "      <td>3690295300</td>\n",
              "      <td>2020-06-29</td>\n",
              "      <td>Run</td>\n",
              "      <td>3055</td>\n",
              "      <td>10.86</td>\n",
              "      <td>5.600000</td>\n",
              "      <td>3.736417</td>\n",
              "      <td>74.350861</td>\n",
              "      <td>74.550865</td>\n",
              "      <td>27.799999</td>\n",
              "      <td>54.299999</td>\n",
              "      <td>13.500000</td>\n",
              "      <td>-0.001841</td>\n",
              "      <td>NaN</td>\n",
              "      <td>5.0</td>\n",
              "      <td>52.0</td>\n",
              "      <td>NaN</td>\n",
              "    </tr>\n",
              "    <tr>\n",
              "      <th>2020-06-30 21:01:11</th>\n",
              "      <td>3695178692</td>\n",
              "      <td>2020-06-30</td>\n",
              "      <td>Ride</td>\n",
              "      <td>2694</td>\n",
              "      <td>9.75</td>\n",
              "      <td>10.800000</td>\n",
              "      <td>3.630789</td>\n",
              "      <td>172.987320</td>\n",
              "      <td>172.687317</td>\n",
              "      <td>52.400002</td>\n",
              "      <td>127.199997</td>\n",
              "      <td>22.100000</td>\n",
              "      <td>0.003076</td>\n",
              "      <td>NaN</td>\n",
              "      <td>5.0</td>\n",
              "      <td>48.0</td>\n",
              "      <td>NaN</td>\n",
              "    </tr>\n",
              "    <tr>\n",
              "      <th>2020-07-01 20:38:04</th>\n",
              "      <td>3700009444</td>\n",
              "      <td>2020-07-01</td>\n",
              "      <td>Run</td>\n",
              "      <td>2851</td>\n",
              "      <td>9.92</td>\n",
              "      <td>5.100000</td>\n",
              "      <td>3.717879</td>\n",
              "      <td>56.204166</td>\n",
              "      <td>56.104168</td>\n",
              "      <td>27.200001</td>\n",
              "      <td>47.599998</td>\n",
              "      <td>10.000000</td>\n",
              "      <td>0.001008</td>\n",
              "      <td>NaN</td>\n",
              "      <td>5.0</td>\n",
              "      <td>48.0</td>\n",
              "      <td>NaN</td>\n",
              "    </tr>\n",
              "    <tr>\n",
              "      <th>2020-07-03 13:44:58</th>\n",
              "      <td>3707730760</td>\n",
              "      <td>2020-07-03</td>\n",
              "      <td>Hike</td>\n",
              "      <td>5707</td>\n",
              "      <td>5.85</td>\n",
              "      <td>7.000000</td>\n",
              "      <td>1.221853</td>\n",
              "      <td>189.418579</td>\n",
              "      <td>188.718582</td>\n",
              "      <td>232.199997</td>\n",
              "      <td>356.100006</td>\n",
              "      <td>47.500000</td>\n",
              "      <td>0.011958</td>\n",
              "      <td>NaN</td>\n",
              "      <td>1.0</td>\n",
              "      <td>10.0</td>\n",
              "      <td>NaN</td>\n",
              "    </tr>\n",
              "    <tr>\n",
              "      <th>...</th>\n",
              "      <td>...</td>\n",
              "      <td>...</td>\n",
              "      <td>...</td>\n",
              "      <td>...</td>\n",
              "      <td>...</td>\n",
              "      <td>...</td>\n",
              "      <td>...</td>\n",
              "      <td>...</td>\n",
              "      <td>...</td>\n",
              "      <td>...</td>\n",
              "      <td>...</td>\n",
              "      <td>...</td>\n",
              "      <td>...</td>\n",
              "      <td>...</td>\n",
              "      <td>...</td>\n",
              "      <td>...</td>\n",
              "      <td>...</td>\n",
              "    </tr>\n",
              "    <tr>\n",
              "      <th>2021-12-26 22:41:48</th>\n",
              "      <td>6431782335</td>\n",
              "      <td>2021-12-26</td>\n",
              "      <td>Run</td>\n",
              "      <td>3616</td>\n",
              "      <td>12.47</td>\n",
              "      <td>5.533333</td>\n",
              "      <td>3.540891</td>\n",
              "      <td>235.800003</td>\n",
              "      <td>205.000000</td>\n",
              "      <td>-91.400002</td>\n",
              "      <td>77.800003</td>\n",
              "      <td>18.000000</td>\n",
              "      <td>-0.020837</td>\n",
              "      <td>632.0</td>\n",
              "      <td>6.0</td>\n",
              "      <td>93.0</td>\n",
              "      <td>1.640521e+09</td>\n",
              "    </tr>\n",
              "    <tr>\n",
              "      <th>2021-12-27 20:32:43</th>\n",
              "      <td>6435407308</td>\n",
              "      <td>2021-12-27</td>\n",
              "      <td>Run</td>\n",
              "      <td>6003</td>\n",
              "      <td>16.94</td>\n",
              "      <td>21.530769</td>\n",
              "      <td>3.252092</td>\n",
              "      <td>286.600006</td>\n",
              "      <td>218.000000</td>\n",
              "      <td>11.400000</td>\n",
              "      <td>77.599998</td>\n",
              "      <td>26.666666</td>\n",
              "      <td>0.003541</td>\n",
              "      <td>1002.0</td>\n",
              "      <td>6.0</td>\n",
              "      <td>137.0</td>\n",
              "      <td>1.640607e+09</td>\n",
              "    </tr>\n",
              "    <tr>\n",
              "      <th>2021-12-29 21:51:06</th>\n",
              "      <td>6444463164</td>\n",
              "      <td>2021-12-29</td>\n",
              "      <td>Run</td>\n",
              "      <td>4121</td>\n",
              "      <td>15.10</td>\n",
              "      <td>4.740000</td>\n",
              "      <td>3.912798</td>\n",
              "      <td>194.199997</td>\n",
              "      <td>178.000000</td>\n",
              "      <td>13.600000</td>\n",
              "      <td>86.800003</td>\n",
              "      <td>38.888889</td>\n",
              "      <td>-0.059589</td>\n",
              "      <td>839.0</td>\n",
              "      <td>7.0</td>\n",
              "      <td>124.0</td>\n",
              "      <td>1.640780e+09</td>\n",
              "    </tr>\n",
              "    <tr>\n",
              "      <th>2021-12-30 20:11:41</th>\n",
              "      <td>6448568100</td>\n",
              "      <td>2021-12-30</td>\n",
              "      <td>Run</td>\n",
              "      <td>3706</td>\n",
              "      <td>12.28</td>\n",
              "      <td>6.993997</td>\n",
              "      <td>3.992265</td>\n",
              "      <td>107.000000</td>\n",
              "      <td>103.000000</td>\n",
              "      <td>155.600006</td>\n",
              "      <td>191.199997</td>\n",
              "      <td>13.759163</td>\n",
              "      <td>-0.089517</td>\n",
              "      <td>602.0</td>\n",
              "      <td>6.0</td>\n",
              "      <td>81.0</td>\n",
              "      <td>1.640867e+09</td>\n",
              "    </tr>\n",
              "    <tr>\n",
              "      <th>2021-12-31 16:37:36</th>\n",
              "      <td>6453199183</td>\n",
              "      <td>2021-12-31</td>\n",
              "      <td>Run</td>\n",
              "      <td>10248</td>\n",
              "      <td>29.82</td>\n",
              "      <td>7.013346</td>\n",
              "      <td>3.141755</td>\n",
              "      <td>531.000000</td>\n",
              "      <td>527.000000</td>\n",
              "      <td>95.199997</td>\n",
              "      <td>247.399994</td>\n",
              "      <td>32.636189</td>\n",
              "      <td>-0.020118</td>\n",
              "      <td>1516.0</td>\n",
              "      <td>8.0</td>\n",
              "      <td>408.0</td>\n",
              "      <td>1.640953e+09</td>\n",
              "    </tr>\n",
              "  </tbody>\n",
              "</table>\n",
              "<p>406 rows × 17 columns</p>\n",
              "</div>\n",
              "      <button class=\"colab-df-convert\" onclick=\"convertToInteractive('df-880590e1-8135-4cec-94aa-ef306dbbdbd2')\"\n",
              "              title=\"Convert this dataframe to an interactive table.\"\n",
              "              style=\"display:none;\">\n",
              "        \n",
              "  <svg xmlns=\"http://www.w3.org/2000/svg\" height=\"24px\"viewBox=\"0 0 24 24\"\n",
              "       width=\"24px\">\n",
              "    <path d=\"M0 0h24v24H0V0z\" fill=\"none\"/>\n",
              "    <path d=\"M18.56 5.44l.94 2.06.94-2.06 2.06-.94-2.06-.94-.94-2.06-.94 2.06-2.06.94zm-11 1L8.5 8.5l.94-2.06 2.06-.94-2.06-.94L8.5 2.5l-.94 2.06-2.06.94zm10 10l.94 2.06.94-2.06 2.06-.94-2.06-.94-.94-2.06-.94 2.06-2.06.94z\"/><path d=\"M17.41 7.96l-1.37-1.37c-.4-.4-.92-.59-1.43-.59-.52 0-1.04.2-1.43.59L10.3 9.45l-7.72 7.72c-.78.78-.78 2.05 0 2.83L4 21.41c.39.39.9.59 1.41.59.51 0 1.02-.2 1.41-.59l7.78-7.78 2.81-2.81c.8-.78.8-2.07 0-2.86zM5.41 20L4 18.59l7.72-7.72 1.47 1.35L5.41 20z\"/>\n",
              "  </svg>\n",
              "      </button>\n",
              "      \n",
              "  <style>\n",
              "    .colab-df-container {\n",
              "      display:flex;\n",
              "      flex-wrap:wrap;\n",
              "      gap: 12px;\n",
              "    }\n",
              "\n",
              "    .colab-df-convert {\n",
              "      background-color: #E8F0FE;\n",
              "      border: none;\n",
              "      border-radius: 50%;\n",
              "      cursor: pointer;\n",
              "      display: none;\n",
              "      fill: #1967D2;\n",
              "      height: 32px;\n",
              "      padding: 0 0 0 0;\n",
              "      width: 32px;\n",
              "    }\n",
              "\n",
              "    .colab-df-convert:hover {\n",
              "      background-color: #E2EBFA;\n",
              "      box-shadow: 0px 1px 2px rgba(60, 64, 67, 0.3), 0px 1px 3px 1px rgba(60, 64, 67, 0.15);\n",
              "      fill: #174EA6;\n",
              "    }\n",
              "\n",
              "    [theme=dark] .colab-df-convert {\n",
              "      background-color: #3B4455;\n",
              "      fill: #D2E3FC;\n",
              "    }\n",
              "\n",
              "    [theme=dark] .colab-df-convert:hover {\n",
              "      background-color: #434B5C;\n",
              "      box-shadow: 0px 1px 3px 1px rgba(0, 0, 0, 0.15);\n",
              "      filter: drop-shadow(0px 1px 2px rgba(0, 0, 0, 0.3));\n",
              "      fill: #FFFFFF;\n",
              "    }\n",
              "  </style>\n",
              "\n",
              "      <script>\n",
              "        const buttonEl =\n",
              "          document.querySelector('#df-880590e1-8135-4cec-94aa-ef306dbbdbd2 button.colab-df-convert');\n",
              "        buttonEl.style.display =\n",
              "          google.colab.kernel.accessAllowed ? 'block' : 'none';\n",
              "\n",
              "        async function convertToInteractive(key) {\n",
              "          const element = document.querySelector('#df-880590e1-8135-4cec-94aa-ef306dbbdbd2');\n",
              "          const dataTable =\n",
              "            await google.colab.kernel.invokeFunction('convertToInteractive',\n",
              "                                                     [key], {});\n",
              "          if (!dataTable) return;\n",
              "\n",
              "          const docLinkHtml = 'Like what you see? Visit the ' +\n",
              "            '<a target=\"_blank\" href=https://colab.research.google.com/notebooks/data_table.ipynb>data table notebook</a>'\n",
              "            + ' to learn more about interactive tables.';\n",
              "          element.innerHTML = '';\n",
              "          dataTable['output_type'] = 'display_data';\n",
              "          await google.colab.output.renderOutput(dataTable, element);\n",
              "          const docLink = document.createElement('div');\n",
              "          docLink.innerHTML = docLinkHtml;\n",
              "          element.appendChild(docLink);\n",
              "        }\n",
              "      </script>\n",
              "    </div>\n",
              "  </div>\n",
              "  "
            ],
            "text/plain": [
              "                     Activity ID  ...  Sunrise Time\n",
              "Activity Date                     ...              \n",
              "2020-06-28 17:03:05   3685097064  ...           NaN\n",
              "2020-06-29 21:42:34   3690295300  ...           NaN\n",
              "2020-06-30 21:01:11   3695178692  ...           NaN\n",
              "2020-07-01 20:38:04   3700009444  ...           NaN\n",
              "2020-07-03 13:44:58   3707730760  ...           NaN\n",
              "...                          ...  ...           ...\n",
              "2021-12-26 22:41:48   6431782335  ...  1.640521e+09\n",
              "2021-12-27 20:32:43   6435407308  ...  1.640607e+09\n",
              "2021-12-29 21:51:06   6444463164  ...  1.640780e+09\n",
              "2021-12-30 20:11:41   6448568100  ...  1.640867e+09\n",
              "2021-12-31 16:37:36   6453199183  ...  1.640953e+09\n",
              "\n",
              "[406 rows x 17 columns]"
            ]
          },
          "metadata": {},
          "execution_count": 19
        }
      ]
    },
    {
      "cell_type": "code",
      "source": [
        ""
      ],
      "metadata": {
        "id": "RFd76TjcV8Nt"
      },
      "execution_count": null,
      "outputs": []
    },
    {
      "cell_type": "markdown",
      "source": [
        "#make activity date the index!"
      ],
      "metadata": {
        "id": "6JMRfCn3V8wt"
      }
    },
    {
      "cell_type": "code",
      "source": [
        "local_legends_segments_df = pd.read_csv(local_legends_segments_path)\n",
        "print(local_legends_segments_df.head())"
      ],
      "metadata": {
        "colab": {
          "base_uri": "https://localhost:8080/"
        },
        "id": "kkWt3m18652A",
        "outputId": "df9c6374-5cbd-4cff-b513-f16057dd0ad6"
      },
      "execution_count": 10,
      "outputs": [
        {
          "output_type": "stream",
          "name": "stdout",
          "text": [
            "   Segment ID      Segment Name\n",
            "0      784795  Trafton Rd Climb\n",
            "1     5265111       Sheddsville\n",
            "2     6548500           college\n",
            "3     8396145             Kings\n",
            "4     8691292  Cypress St Climb\n"
          ]
        }
      ]
    },
    {
      "cell_type": "code",
      "source": [
        ""
      ],
      "metadata": {
        "id": "ZJr1lEbR3KEy"
      },
      "execution_count": null,
      "outputs": []
    }
  ]
}