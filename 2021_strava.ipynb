{
  "nbformat": 4,
  "nbformat_minor": 0,
  "metadata": {
    "colab": {
      "name": "2021_strava.ipynb",
      "provenance": [],
      "authorship_tag": "ABX9TyP7vg9ykKgEeZyTZf4ZIPmV",
      "include_colab_link": true
    },
    "kernelspec": {
      "name": "python3",
      "display_name": "Python 3"
    },
    "language_info": {
      "name": "python"
    }
  },
  "cells": [
    {
      "cell_type": "markdown",
      "metadata": {
        "id": "view-in-github",
        "colab_type": "text"
      },
      "source": [
        "<a href=\"https://colab.research.google.com/github/cmannnn/2021_strava/blob/main/2021_strava.ipynb\" target=\"_parent\"><img src=\"https://colab.research.google.com/assets/colab-badge.svg\" alt=\"Open In Colab\"/></a>"
      ]
    },
    {
      "cell_type": "code",
      "execution_count": 1,
      "metadata": {
        "id": "3U8f5wlT0YfA"
      },
      "outputs": [],
      "source": [
        "# imports\n",
        "import pandas as pd\n",
        "import matplotlib.pyplot as plt\n",
        "import seaborn as sns\n",
        "# plt.style.use('ggplot')\n",
        "# sns.set_style('darkgrid')"
      ]
    },
    {
      "cell_type": "code",
      "source": [
        "from google.colab import drive\n",
        "drive.mount('/content/drive')"
      ],
      "metadata": {
        "colab": {
          "base_uri": "https://localhost:8080/"
        },
        "id": "ZMytbzAt3w6o",
        "outputId": "06b0bbdc-4fe9-4079-8deb-57ef1b7b056b"
      },
      "execution_count": 2,
      "outputs": [
        {
          "output_type": "stream",
          "name": "stdout",
          "text": [
            "Mounted at /content/drive\n"
          ]
        }
      ]
    },
    {
      "cell_type": "code",
      "source": [
        "activities_path = \"/content/drive/MyDrive/Colabby Krabby Paddy/2021_strava/2021_strava/activities.csv\"\n",
        "local_legends_segments_path = \"/content/drive/MyDrive/Colabby Krabby Paddy/2021_strava/2021_strava/local_legend_segments.csv\"\n",
        "kudos_path = \"/content/drive/MyDrive/Colabby Krabby Paddy/2021_strava/2021_strava/kudos.csv\"\n",
        "segments_path = \"/content/drive/MyDrive/Colabby Krabby Paddy/2021_strava/2021_strava/segments.csv\""
      ],
      "metadata": {
        "id": "ZNqzdsV85KJr"
      },
      "execution_count": 12,
      "outputs": []
    },
    {
      "cell_type": "code",
      "source": [
        "activities_df = pd.read_csv(activities_path, parse_dates = True, index_col = 'Activity Date')\n",
        "print(activities_df.columns)"
      ],
      "metadata": {
        "colab": {
          "base_uri": "https://localhost:8080/"
        },
        "id": "XK2jOAwl6O6d",
        "outputId": "4bd86711-3792-4700-8132-86e787f08557"
      },
      "execution_count": 22,
      "outputs": [
        {
          "output_type": "stream",
          "name": "stdout",
          "text": [
            "Index(['Activity ID', 'Activity Name', 'Activity Type', 'Activity Description',\n",
            "       'Elapsed Time', 'Distance', 'Max Heart Rate', 'Relative Effort',\n",
            "       'Commute', 'Activity Gear', 'Filename', 'Athlete Weight', 'Bike Weight',\n",
            "       'Elapsed Time.1', 'Moving Time', 'Distance.1', 'Max Speed',\n",
            "       'Average Speed', 'Elevation Gain', 'Elevation Loss', 'Elevation Low',\n",
            "       'Elevation High', 'Max Grade', 'Average Grade',\n",
            "       'Average Positive Grade', 'Average Negative Grade', 'Max Cadence',\n",
            "       'Average Cadence', 'Max Heart Rate.1', 'Average Heart Rate',\n",
            "       'Max Watts', 'Average Watts', 'Calories', 'Max Temperature',\n",
            "       'Average Temperature', 'Relative Effort.1', 'Total Work',\n",
            "       'Number of Runs', 'Uphill Time', 'Downhill Time', 'Other Time',\n",
            "       'Perceived Exertion',\n",
            "       '<span class=\"translation_missing\" title=\"translation missing: en-US.lib.export.portability_exporter.activities.horton_values.type\">Type</span>',\n",
            "       '<span class=\"translation_missing\" title=\"translation missing: en-US.lib.export.portability_exporter.activities.horton_values.start_time\">Start Time</span>',\n",
            "       'Weighted Average Power', 'Power Count', 'Prefer Perceived Exertion',\n",
            "       'Perceived Relative Effort', 'Commute.1', 'Total Weight Lifted',\n",
            "       'From Upload', 'Grade Adjusted Distance', 'Weather Observation Time',\n",
            "       'Weather Condition', 'Weather Temperature', 'Apparent Temperature',\n",
            "       'Dewpoint', 'Humidity', 'Weather Pressure', 'Wind Speed', 'Wind Gust',\n",
            "       'Wind Bearing', 'Precipitation Intensity', 'Sunrise Time',\n",
            "       'Sunset Time', 'Moon Phase', 'Bike', 'Gear',\n",
            "       'Precipitation Probability', 'Precipitation Type', 'Cloud Cover',\n",
            "       'Weather Visibility', 'UV Index', 'Weather Ozone',\n",
            "       '<span class=\"translation_missing\" title=\"translation missing: en-US.lib.export.portability_exporter.activities.horton_values.jump_count\">Jump Count</span>',\n",
            "       '<span class=\"translation_missing\" title=\"translation missing: en-US.lib.export.portability_exporter.activities.horton_values.total_grit\">Total Grit</span>',\n",
            "       '<span class=\"translation_missing\" title=\"translation missing: en-US.lib.export.portability_exporter.activities.horton_values.avg_flow\">Avg Flow</span>',\n",
            "       '<span class=\"translation_missing\" title=\"translation missing: en-US.lib.export.portability_exporter.activities.horton_values.flagged\">Flagged</span>',\n",
            "       '<span class=\"translation_missing\" title=\"translation missing: en-US.lib.export.portability_exporter.activities.horton_values.avg_elapsed_speed\">Avg Elapsed Speed</span>',\n",
            "       '<span class=\"translation_missing\" title=\"translation missing: en-US.lib.export.portability_exporter.activities.horton_values.dirt_distance\">Dirt Distance</span>',\n",
            "       '<span class=\"translation_missing\" title=\"translation missing: en-US.lib.export.portability_exporter.activities.horton_values.newly_explored_distance\">Newly Explored Distance</span>',\n",
            "       '<span class=\"translation_missing\" title=\"translation missing: en-US.lib.export.portability_exporter.activities.horton_values.newly_explored_dirt_distance\">Newly Explored Dirt Distance</span>'],\n",
            "      dtype='object')\n"
          ]
        }
      ]
    },
    {
      "cell_type": "markdown",
      "source": [
        "Notes:\n",
        "- elapsed time column in seconds, needs to be multliplied to get minutes\n",
        "- "
      ],
      "metadata": {
        "id": "zSQ3jpoy-Kmp"
      }
    },
    {
      "cell_type": "code",
      "source": [
        "cols_to_drop = ['Activity Description', 'Max Heart Rate', 'Relative Effort', 'Commute', 'Activity Gear', 'Filename', 'Athlete Weight', \n",
        "                'Bike Weight', 'Elapsed Time.1', 'Moving Time', 'Distance.1', 'Average Positive Grade', 'Average Negative Grade',\n",
        "                'Max Cadence', 'Average Cadence', 'Max Heart Rate.1', 'Average Heart Rate', 'Max Watts', 'Average Watts', 'Max Temperature',\n",
        "                'Average Temperature', 'Relative Efford.1', 'Total Work', 'Number of Runs', 'Uphill Time', 'Downhill Time', 'Other Time',\n",
        "                '<span class=\"translation_missing\" title=\"translation missing: en-US.lib.export.portability_exporter.activities.horton_values.type\">Type</span>]',\n",
        "                '<span class=\"translation_missing\" title=\"translation missing: en-US.lib.export.portability_exporter.activities.horton_values.start_time\">Start Time</span>',\n",
        "                'Weighted Average Power', 'Power Count', 'Prefer Perceived Exertion', 'Commute.1', 'Total Weight Lifted', 'From Upload', 'Grade Adjusted Distance',\n",
        "                'Weather Observation Time', 'Weather Condition', 'Weather Temperature', 'Apparent Temperature', 'Dewpoint', 'Humidity', 'Weather Pressure',\n",
        "                'Wind Speed', 'Wind Gust', 'Wind Bearing', 'Precipitation Intensity', 'Sunset Time', 'Moon Phase', 'Bike', 'Gear', 'Precipitation Probability', \n",
        "                'Precipitation Type', 'Cloud Cover', 'Weather Visibility', 'UV Index', 'Weather Ozone', \n",
        "                '<span class=\"translation_missing\" title=\"translation missing: en-US.lib.export.portability_exporter.activities.horton_values.jump_count\">Jump Count</span>',\n",
        "                '<span class=\"translation_missing\" title=\"translation missing: en-US.lib.export.portability_exporter.activities.horton_values.total_grit\">Total Grit</span>',\n",
        "                '<span class=\"translation_missing\" title=\"translation missing: en-US.lib.export.portability_exporter.activities.horton_values.avg_flow\">Avg Flow</span>',\n",
        "                '<span class=\"translation_missing\" title=\"translation missing: en-US.lib.export.portability_exporter.activities.horton_values.flagged\">Flagged</span>',\n",
        "                '<span class=\"translation_missing\" title=\"translation missing: en-US.lib.export.portability_exporter.activities.horton_values.avg_elapsed_speed\">Avg Elapsed Speed</span>',\n",
        "                '<span class=\"translation_missing\" title=\"translation missing: en-US.lib.export.portability_exporter.activities.horton_values.dirt_distance\">Dirt Distance</span>',\n",
        "                '<span class=\"translation_missing\" title=\"translation missing: en-US.lib.export.portability_exporter.activities.horton_values.newly_explored_distance\">Newly Explored Distance</span>',\n",
        "                '<span class=\"translation_missing\" title=\"translation missing: en-US.lib.export.portability_exporter.activities.horton_values.newly_explored_dirt_distance\">Newly Explored Dirt Distance</span>',\n",
        "                ]"
      ],
      "metadata": {
        "id": "BsahjImT99YK"
      },
      "execution_count": null,
      "outputs": []
    },
    {
      "cell_type": "code",
      "source": [
        "print(activities_df['Grade Adjusted Distance'].describe())"
      ],
      "metadata": {
        "colab": {
          "base_uri": "https://localhost:8080/"
        },
        "id": "y3Wss5cR-cqh",
        "outputId": "726337f6-756c-4332-9ff0-712ab2afa9cc"
      },
      "execution_count": 108,
      "outputs": [
        {
          "output_type": "stream",
          "name": "stdout",
          "text": [
            "count    3.540000e+02\n",
            "mean     5.530982e+04\n",
            "std      7.461053e+05\n",
            "min      6.422600e+03\n",
            "25%      1.067397e+04\n",
            "50%      1.446354e+04\n",
            "75%      1.856143e+04\n",
            "max      1.405296e+07\n",
            "Name: Grade Adjusted Distance, dtype: float64\n"
          ]
        }
      ]
    },
    {
      "cell_type": "code",
      "source": [
        "print(activities_df.head().iloc[:5, 81:82])"
      ],
      "metadata": {
        "id": "F4l8zDfy7o-b"
      },
      "execution_count": null,
      "outputs": []
    },
    {
      "cell_type": "code",
      "source": [
        "local_legends_segments_df = pd.read_csv(local_legends_segments_path)\n",
        "print(local_legends_segments_df.head())"
      ],
      "metadata": {
        "colab": {
          "base_uri": "https://localhost:8080/"
        },
        "id": "kkWt3m18652A",
        "outputId": "df9c6374-5cbd-4cff-b513-f16057dd0ad6"
      },
      "execution_count": 10,
      "outputs": [
        {
          "output_type": "stream",
          "name": "stdout",
          "text": [
            "   Segment ID      Segment Name\n",
            "0      784795  Trafton Rd Climb\n",
            "1     5265111       Sheddsville\n",
            "2     6548500           college\n",
            "3     8396145             Kings\n",
            "4     8691292  Cypress St Climb\n"
          ]
        }
      ]
    },
    {
      "cell_type": "code",
      "source": [
        "# data frame read\n",
        "df = pd.read_csv('strava.csv', parse_dates=True, index_col='Activity Date')"
      ],
      "metadata": {
        "id": "ZJr1lEbR3KEy"
      },
      "execution_count": null,
      "outputs": []
    }
  ]
}