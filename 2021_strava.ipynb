{
  "nbformat": 4,
  "nbformat_minor": 0,
  "metadata": {
    "colab": {
      "name": "2021_strava.ipynb",
      "provenance": [],
      "authorship_tag": "ABX9TyPhol4qgO35v6dcP6MewNAZ",
      "include_colab_link": true
    },
    "kernelspec": {
      "name": "python3",
      "display_name": "Python 3"
    },
    "language_info": {
      "name": "python"
    }
  },
  "cells": [
    {
      "cell_type": "markdown",
      "metadata": {
        "id": "view-in-github",
        "colab_type": "text"
      },
      "source": [
        "<a href=\"https://colab.research.google.com/github/cmannnn/2021_strava/blob/main/2021_strava.ipynb\" target=\"_parent\"><img src=\"https://colab.research.google.com/assets/colab-badge.svg\" alt=\"Open In Colab\"/></a>"
      ]
    },
    {
      "cell_type": "code",
      "execution_count": 1,
      "metadata": {
        "id": "3U8f5wlT0YfA"
      },
      "outputs": [],
      "source": [
        "# imports\n",
        "import pandas as pd\n",
        "import matplotlib.pyplot as plt\n",
        "import seaborn as sns\n",
        "import numpy as np\n",
        "# plt.style.use('ggplot')\n",
        "# sns.set_style('darkgrid')"
      ]
    },
    {
      "cell_type": "code",
      "source": [
        "# mounting google drive\n",
        "from google.colab import drive\n",
        "drive.mount('/content/drive')"
      ],
      "metadata": {
        "colab": {
          "base_uri": "https://localhost:8080/"
        },
        "id": "ZMytbzAt3w6o",
        "outputId": "e00f0729-3ab2-4b37-c925-73055f9c5074"
      },
      "execution_count": 2,
      "outputs": [
        {
          "output_type": "stream",
          "name": "stdout",
          "text": [
            "Mounted at /content/drive\n"
          ]
        }
      ]
    },
    {
      "cell_type": "code",
      "source": [
        "# setting the path of each interesting CSV\n",
        "activities_path = \"/content/drive/MyDrive/Colabby Krabby Paddy/2021_strava/2021_strava/activities.csv\"\n",
        "local_legends_segments_path = \"/content/drive/MyDrive/Colabby Krabby Paddy/2021_strava/2021_strava/local_legend_segments.csv\"\n",
        "kudos_path = \"/content/drive/MyDrive/Colabby Krabby Paddy/2021_strava/2021_strava/kudos.csv\""
      ],
      "metadata": {
        "id": "ZNqzdsV85KJr"
      },
      "execution_count": 3,
      "outputs": []
    },
    {
      "cell_type": "markdown",
      "source": [
        "# Importing, cleaning activities_df"
      ],
      "metadata": {
        "id": "issQBY23fmdo"
      }
    },
    {
      "cell_type": "code",
      "source": [
        "# reading in activities data\n",
        "activities_df = pd.read_csv(activities_path, parse_dates = True)"
      ],
      "metadata": {
        "id": "XK2jOAwl6O6d"
      },
      "execution_count": 4,
      "outputs": []
    },
    {
      "cell_type": "code",
      "source": [
        "# columns to drop from activities_df\n",
        "cols_to_drop = ['Activity Description', 'Max Heart Rate', 'Relative Effort', 'Commute', 'Activity Gear', 'Filename', 'Athlete Weight', \n",
        "                'Bike Weight', 'Elapsed Time.1', 'Moving Time', 'Distance.1', 'Average Positive Grade', 'Average Negative Grade',\n",
        "                'Max Cadence', 'Average Cadence', 'Max Heart Rate.1', 'Average Heart Rate', 'Max Watts', 'Average Watts', 'Max Temperature',\n",
        "                'Average Temperature', 'Relative Effort.1', 'Total Work', 'Number of Runs', 'Uphill Time', 'Downhill Time', 'Other Time',\n",
        "                '<span class=\"translation_missing\" title=\"translation missing: en-US.lib.export.portability_exporter.activities.horton_values.start_time\">Start Time</span>',\n",
        "                'Weighted Average Power', 'Power Count', 'Prefer Perceived Exertion', 'Commute.1', 'Total Weight Lifted', 'From Upload', 'Grade Adjusted Distance',\n",
        "                'Weather Observation Time', 'Weather Condition', 'Weather Temperature', 'Apparent Temperature', 'Dewpoint', 'Humidity', 'Weather Pressure',\n",
        "                'Wind Speed', 'Wind Gust', 'Wind Bearing', 'Precipitation Intensity', 'Sunset Time', 'Moon Phase', 'Bike', 'Gear', 'Precipitation Probability', \n",
        "                'Precipitation Type', 'Cloud Cover', 'Weather Visibility', 'UV Index', 'Weather Ozone', 'Sunrise Time', 'Activity Name',\n",
        "                '<span class=\"translation_missing\" title=\"translation missing: en-US.lib.export.portability_exporter.activities.horton_values.type\">Type</span>', \n",
        "                '<span class=\"translation_missing\" title=\"translation missing: en-US.lib.export.portability_exporter.activities.horton_values.jump_count\">Jump Count</span>',\n",
        "                '<span class=\"translation_missing\" title=\"translation missing: en-US.lib.export.portability_exporter.activities.horton_values.total_grit\">Total Grit</span>',\n",
        "                '<span class=\"translation_missing\" title=\"translation missing: en-US.lib.export.portability_exporter.activities.horton_values.avg_flow\">Avg Flow</span>',\n",
        "                '<span class=\"translation_missing\" title=\"translation missing: en-US.lib.export.portability_exporter.activities.horton_values.flagged\">Flagged</span>',\n",
        "                '<span class=\"translation_missing\" title=\"translation missing: en-US.lib.export.portability_exporter.activities.horton_values.avg_elapsed_speed\">Avg Elapsed Speed</span>',\n",
        "                '<span class=\"translation_missing\" title=\"translation missing: en-US.lib.export.portability_exporter.activities.horton_values.dirt_distance\">Dirt Distance</span>',\n",
        "                '<span class=\"translation_missing\" title=\"translation missing: en-US.lib.export.portability_exporter.activities.horton_values.newly_explored_distance\">Newly Explored Distance</span>',\n",
        "                '<span class=\"translation_missing\" title=\"translation missing: en-US.lib.export.portability_exporter.activities.horton_values.newly_explored_dirt_distance\">Newly Explored Dirt Distance</span>',\n",
        "                ]"
      ],
      "metadata": {
        "id": "BsahjImT99YK"
      },
      "execution_count": 5,
      "outputs": []
    },
    {
      "cell_type": "code",
      "source": [
        "# dropping the columns\n",
        "activities_df.drop(axis=1, columns = cols_to_drop, inplace = True)"
      ],
      "metadata": {
        "id": "y3Wss5cR-cqh"
      },
      "execution_count": 6,
      "outputs": []
    },
    {
      "cell_type": "code",
      "source": [
        "# checking correct columns were dropped\n",
        "print(activities_df.columns)"
      ],
      "metadata": {
        "colab": {
          "base_uri": "https://localhost:8080/"
        },
        "id": "F4l8zDfy7o-b",
        "outputId": "8f39c306-7299-44ee-b3fd-0cfd2c134dbb"
      },
      "execution_count": 7,
      "outputs": [
        {
          "output_type": "stream",
          "name": "stdout",
          "text": [
            "Index(['Activity ID', 'Activity Date', 'Activity Type', 'Elapsed Time',\n",
            "       'Distance', 'Max Speed', 'Average Speed', 'Elevation Gain',\n",
            "       'Elevation Loss', 'Elevation Low', 'Elevation High', 'Max Grade',\n",
            "       'Average Grade', 'Calories', 'Perceived Exertion',\n",
            "       'Perceived Relative Effort'],\n",
            "      dtype='object')\n"
          ]
        }
      ]
    },
    {
      "cell_type": "code",
      "source": [
        "print(activities_df['Activity Date'].head())"
      ],
      "metadata": {
        "colab": {
          "base_uri": "https://localhost:8080/"
        },
        "id": "Jx1fKClaYXXL",
        "outputId": "ded0612e-1e5b-40ae-93c0-e0cb6b6e8205"
      },
      "execution_count": 8,
      "outputs": [
        {
          "output_type": "stream",
          "name": "stdout",
          "text": [
            "0    Jun 28, 2020, 5:03:05 PM\n",
            "1    Jun 29, 2020, 9:42:34 PM\n",
            "2    Jun 30, 2020, 9:01:11 PM\n",
            "3     Jul 1, 2020, 8:38:04 PM\n",
            "4     Jul 3, 2020, 1:44:58 PM\n",
            "Name: Activity Date, dtype: object\n"
          ]
        }
      ]
    },
    {
      "cell_type": "code",
      "source": [
        "# changing activity date column to datetime\n",
        "activities_df['Activity Date'] = pd.to_datetime(activities_df['Activity Date'])"
      ],
      "metadata": {
        "id": "zHSYDaxMX1Vo"
      },
      "execution_count": 9,
      "outputs": []
    },
    {
      "cell_type": "code",
      "source": [
        "# checking the data types of each column\n",
        "print(activities_df.dtypes)"
      ],
      "metadata": {
        "colab": {
          "base_uri": "https://localhost:8080/"
        },
        "id": "vAX6XEtJUeTi",
        "outputId": "9acae5b6-a07e-40a2-a69f-7c82c77efe5b"
      },
      "execution_count": 10,
      "outputs": [
        {
          "output_type": "stream",
          "name": "stdout",
          "text": [
            "Activity ID                           int64\n",
            "Activity Date                datetime64[ns]\n",
            "Activity Type                        object\n",
            "Elapsed Time                          int64\n",
            "Distance                             object\n",
            "Max Speed                           float64\n",
            "Average Speed                       float64\n",
            "Elevation Gain                      float64\n",
            "Elevation Loss                      float64\n",
            "Elevation Low                       float64\n",
            "Elevation High                      float64\n",
            "Max Grade                           float64\n",
            "Average Grade                       float64\n",
            "Calories                            float64\n",
            "Perceived Exertion                  float64\n",
            "Perceived Relative Effort           float64\n",
            "dtype: object\n"
          ]
        }
      ]
    },
    {
      "cell_type": "code",
      "source": [
        "# filtering activities_df to only 2021 data\n",
        "activities_df = activities_df[activities_df['Activity Date'] > '2021-01-01']"
      ],
      "metadata": {
        "id": "0btRRCTOTkFO"
      },
      "execution_count": 11,
      "outputs": []
    },
    {
      "cell_type": "code",
      "source": [
        "# setting activity date as the index of activities_df\n",
        "activities_df.set_index('Activity Date', inplace = True)"
      ],
      "metadata": {
        "id": "dvoCGSnFeMrM"
      },
      "execution_count": 12,
      "outputs": []
    },
    {
      "cell_type": "code",
      "source": [
        "# elapsed time in activities_df was defaulted to seconds, changing it to minutes\n",
        "activities_df['Elapsed Time'] = activities_df['Elapsed Time'] / 60"
      ],
      "metadata": {
        "colab": {
          "base_uri": "https://localhost:8080/"
        },
        "id": "h28rWb-yeAIW",
        "outputId": "fad24d2f-3536-4230-933e-07a87d1a2b82"
      },
      "execution_count": 13,
      "outputs": [
        {
          "output_type": "stream",
          "name": "stderr",
          "text": [
            "/usr/local/lib/python3.7/dist-packages/ipykernel_launcher.py:2: SettingWithCopyWarning: \n",
            "A value is trying to be set on a copy of a slice from a DataFrame.\n",
            "Try using .loc[row_indexer,col_indexer] = value instead\n",
            "\n",
            "See the caveats in the documentation: https://pandas.pydata.org/pandas-docs/stable/user_guide/indexing.html#returning-a-view-versus-a-copy\n",
            "  \n"
          ]
        }
      ]
    },
    {
      "cell_type": "code",
      "source": [
        "# changing distance column to float64\n",
        "activities_df['Distance'] = activities_df['Distance'].astype(np.float64)"
      ],
      "metadata": {
        "id": "vMORtkO13rK6",
        "colab": {
          "base_uri": "https://localhost:8080/"
        },
        "outputId": "8f28f8e2-f9e5-4550-dc29-3677ca412c87"
      },
      "execution_count": 14,
      "outputs": [
        {
          "output_type": "stream",
          "name": "stderr",
          "text": [
            "/usr/local/lib/python3.7/dist-packages/ipykernel_launcher.py:2: SettingWithCopyWarning: \n",
            "A value is trying to be set on a copy of a slice from a DataFrame.\n",
            "Try using .loc[row_indexer,col_indexer] = value instead\n",
            "\n",
            "See the caveats in the documentation: https://pandas.pydata.org/pandas-docs/stable/user_guide/indexing.html#returning-a-view-versus-a-copy\n",
            "  \n"
          ]
        }
      ]
    },
    {
      "cell_type": "code",
      "source": [
        "# changing distance from km to mi\n",
        "activities_df['Distance'] = (activities_df['Distance'] / (8/5)) "
      ],
      "metadata": {
        "id": "f-3i00p-rzah"
      },
      "execution_count": 18,
      "outputs": []
    },
    {
      "cell_type": "code",
      "source": [
        "# changing elevation gain, elevation loss, elevation low, elevation high from meters to feet\n",
        "activities_df['Elevation Gain'] = (activities_df['Elevation Gain'] * 3.28084)\n",
        "activities_df['Elevation Loss'] = (activities_df['Elevation Loss'] * 3.28084)\n",
        "activities_df['Elevation Low'] = (activities_df['Elevation Low'] * 3.28084)\n",
        "activities_df['Elevation High'] = (activities_df['Elevation High'] * 3.28084)"
      ],
      "metadata": {
        "id": "w77-FwBmtbhy"
      },
      "execution_count": 19,
      "outputs": []
    },
    {
      "cell_type": "markdown",
      "source": [
        "# activities_df analysis"
      ],
      "metadata": {
        "id": "cLgPWfu56_yL"
      }
    },
    {
      "cell_type": "code",
      "source": [
        "# total activity distance sum\n",
        "activities_df['Distance'].sum()"
      ],
      "metadata": {
        "colab": {
          "base_uri": "https://localhost:8080/"
        },
        "id": "XiWmCMIR206G",
        "outputId": "55ffa53d-0afd-4708-890b-676eab748fcc"
      },
      "execution_count": 18,
      "outputs": [
        {
          "output_type": "execute_result",
          "data": {
            "text/plain": [
              "4856.0"
            ]
          },
          "metadata": {},
          "execution_count": 18
        }
      ]
    },
    {
      "cell_type": "code",
      "source": [
        "# counts of each workout\n",
        "activities_df['Activity Type'].value_counts()"
      ],
      "metadata": {
        "colab": {
          "base_uri": "https://localhost:8080/"
        },
        "id": "FO-hhDQe8cDY",
        "outputId": "81aad4ed-bd25-4ff0-a401-75e461c5b7c5"
      },
      "execution_count": 19,
      "outputs": [
        {
          "output_type": "execute_result",
          "data": {
            "text/plain": [
              "Run                235\n",
              "Ride                16\n",
              "Backcountry Ski     16\n",
              "Hike                 9\n",
              "Virtual Ride         5\n",
              "Walk                 3\n",
              "Workout              3\n",
              "Alpine Ski           2\n",
              "Elliptical           1\n",
              "Name: Activity Type, dtype: int64"
            ]
          },
          "metadata": {},
          "execution_count": 19
        }
      ]
    },
    {
      "cell_type": "code",
      "source": [
        "# sum of run data\n",
        "activities_df[activities_df['Activity Type'] == 'Run'].sum()"
      ],
      "metadata": {
        "colab": {
          "base_uri": "https://localhost:8080/"
        },
        "id": "vHA5e6H77JdW",
        "outputId": "eab94e1b-0735-49d3-d5f0-29acdabc6e76"
      },
      "execution_count": 20,
      "outputs": [
        {
          "output_type": "execute_result",
          "data": {
            "text/plain": [
              "Activity ID                                                      1317445878402\n",
              "Activity Type                RunRunRunRunRunRunRunRunRunRunRunRunRunRunRunR...\n",
              "Elapsed Time                                                           19935.2\n",
              "Distance                                                               3693.57\n",
              "Max Speed                                                              1420.92\n",
              "Average Speed                                                          812.759\n",
              "Elevation Gain                                                         59704.6\n",
              "Elevation Loss                                                         59521.4\n",
              "Elevation Low                                                          13241.4\n",
              "Elevation High                                                         36786.8\n",
              "Max Grade                                                              5032.08\n",
              "Average Grade                                                         -2.30651\n",
              "Calories                                                                 98902\n",
              "Perceived Exertion                                                        1531\n",
              "Perceived Relative Effort                                                35634\n",
              "dtype: object"
            ]
          },
          "metadata": {},
          "execution_count": 20
        }
      ]
    },
    {
      "cell_type": "code",
      "source": [
        "# sum of bike data\n",
        "activities_df[activities_df['Activity Type'] == 'Ride'].sum()"
      ],
      "metadata": {
        "colab": {
          "base_uri": "https://localhost:8080/"
        },
        "id": "ppTZH_Hm8_Q-",
        "outputId": "ed3ead09-e6e1-435f-ddaf-a089be0bd17d"
      },
      "execution_count": 21,
      "outputs": [
        {
          "output_type": "execute_result",
          "data": {
            "text/plain": [
              "Activity ID                                                        90594882152\n",
              "Activity Type                RideRideRideRideRideRideRideRideRideRideRideRi...\n",
              "Elapsed Time                                                           2603.85\n",
              "Distance                                                                 773.3\n",
              "Max Speed                                                              281.672\n",
              "Average Speed                                                          93.4108\n",
              "Elevation Gain                                                         12170.1\n",
              "Elevation Loss                                                         12034.7\n",
              "Elevation Low                                                           4396.9\n",
              "Elevation High                                                          7905.3\n",
              "Max Grade                                                              374.962\n",
              "Average Grade                                                         0.317965\n",
              "Calories                                                                     0\n",
              "Perceived Exertion                                                         103\n",
              "Perceived Relative Effort                                                 4305\n",
              "dtype: object"
            ]
          },
          "metadata": {},
          "execution_count": 21
        }
      ]
    },
    {
      "cell_type": "code",
      "source": [
        "# longest run\n",
        "activities_df[activities_df['Activity Type'] == 'Run'].max()"
      ],
      "metadata": {
        "colab": {
          "base_uri": "https://localhost:8080/"
        },
        "id": "wz_MeaIa9Xy3",
        "outputId": "24f7570d-ee28-4078-dc81-8c387ddaca82"
      },
      "execution_count": 22,
      "outputs": [
        {
          "output_type": "execute_result",
          "data": {
            "text/plain": [
              "Activity ID                  6453199183\n",
              "Activity Type                       Run\n",
              "Elapsed Time                    464.733\n",
              "Distance                          50.85\n",
              "Max Speed                       21.5308\n",
              "Average Speed                   4.95201\n",
              "Elevation Gain                   1390.1\n",
              "Elevation Loss                   1392.6\n",
              "Elevation Low                    2027.8\n",
              "Elevation High                   2098.6\n",
              "Max Grade                            50\n",
              "Average Grade                 0.0954654\n",
              "Calories                           2368\n",
              "Perceived Exertion                    9\n",
              "Perceived Relative Effort           732\n",
              "dtype: object"
            ]
          },
          "metadata": {},
          "execution_count": 22
        }
      ]
    },
    {
      "cell_type": "code",
      "source": [
        "# longest ride\n",
        "activities_df[activities_df['Activity Type'] == 'Ride'].max()"
      ],
      "metadata": {
        "id": "FBxOghUV9jqg",
        "outputId": "5fa9afc6-a7c8-4fb4-9e8a-3807bb2f3bf1",
        "colab": {
          "base_uri": "https://localhost:8080/"
        }
      },
      "execution_count": 23,
      "outputs": [
        {
          "output_type": "execute_result",
          "data": {
            "text/plain": [
              "Activity ID                  6314894348\n",
              "Activity Type                      Ride\n",
              "Elapsed Time                     699.75\n",
              "Distance                         139.38\n",
              "Max Speed                          20.7\n",
              "Average Speed                    7.8865\n",
              "Elevation Gain                  1585.19\n",
              "Elevation Loss                  1585.19\n",
              "Elevation Low                    2054.5\n",
              "Elevation High                   2197.5\n",
              "Max Grade                          48.1\n",
              "Average Grade                  0.235899\n",
              "Calories                            NaN\n",
              "Perceived Exertion                    9\n",
              "Perceived Relative Effort          1012\n",
              "dtype: object"
            ]
          },
          "metadata": {},
          "execution_count": 23
        }
      ]
    },
    {
      "cell_type": "code",
      "source": [
        "activities_df.info()"
      ],
      "metadata": {
        "colab": {
          "base_uri": "https://localhost:8080/"
        },
        "id": "GW1viBFTrEUo",
        "outputId": "d7491e15-b7db-4d03-b108-c2745c45ea91"
      },
      "execution_count": 25,
      "outputs": [
        {
          "output_type": "stream",
          "name": "stdout",
          "text": [
            "<class 'pandas.core.frame.DataFrame'>\n",
            "DatetimeIndex: 290 entries, 2021-01-01 19:06:13 to 2021-12-31 16:37:36\n",
            "Data columns (total 15 columns):\n",
            " #   Column                     Non-Null Count  Dtype  \n",
            "---  ------                     --------------  -----  \n",
            " 0   Activity ID                290 non-null    int64  \n",
            " 1   Activity Type              290 non-null    object \n",
            " 2   Elapsed Time               290 non-null    float64\n",
            " 3   Distance                   290 non-null    float64\n",
            " 4   Max Speed                  286 non-null    float64\n",
            " 5   Average Speed              290 non-null    float64\n",
            " 6   Elevation Gain             286 non-null    float64\n",
            " 7   Elevation Loss             286 non-null    float64\n",
            " 8   Elevation Low              286 non-null    float64\n",
            " 9   Elevation High             286 non-null    float64\n",
            " 10  Max Grade                  286 non-null    float64\n",
            " 11  Average Grade              290 non-null    float64\n",
            " 12  Calories                   101 non-null    float64\n",
            " 13  Perceived Exertion         287 non-null    float64\n",
            " 14  Perceived Relative Effort  287 non-null    float64\n",
            "dtypes: float64(13), int64(1), object(1)\n",
            "memory usage: 36.2+ KB\n"
          ]
        }
      ]
    },
    {
      "cell_type": "markdown",
      "source": [
        "# Importing, cleaning local legends segments df"
      ],
      "metadata": {
        "id": "HkZoz4UUf6W2"
      }
    },
    {
      "cell_type": "code",
      "source": [
        "local_legends_segments_df = pd.read_csv(local_legends_segments_path)"
      ],
      "metadata": {
        "id": "ZJr1lEbR3KEy"
      },
      "execution_count": null,
      "outputs": []
    },
    {
      "cell_type": "code",
      "source": [
        "print(local_legends_segments_df)"
      ],
      "metadata": {
        "colab": {
          "base_uri": "https://localhost:8080/"
        },
        "id": "hRbWDN0TgPB1",
        "outputId": "973e4f94-102c-4756-e505-4869aa86cff3"
      },
      "execution_count": null,
      "outputs": [
        {
          "output_type": "stream",
          "name": "stdout",
          "text": [
            "    Segment ID                 Segment Name\n",
            "0       784795             Trafton Rd Climb\n",
            "1      5265111                  Sheddsville\n",
            "2      6548500                      college\n",
            "3      8396145                        Kings\n",
            "4      8691292             Cypress St Climb\n",
            "5      8691298             Abbott St Ascent\n",
            "6     13421564                       Barton\n",
            "7     21915885     Pawtucket Avenue (North)\n",
            "8     22788662       Lower Cypress Downhill\n",
            "9     23961262         Wobble up the Cobble\n",
            "10    25261378  ROGUE OVERLAND - Segment #2\n",
            "11    28533121               BH to Cemetery\n"
          ]
        }
      ]
    },
    {
      "cell_type": "markdown",
      "source": [
        "# Importing, cleaning kudos df"
      ],
      "metadata": {
        "id": "-6sG6z_Ng-sO"
      }
    },
    {
      "cell_type": "code",
      "source": [
        "# reading kudos into pandas\n",
        "kudos_df = pd.read_csv(kudos_path)"
      ],
      "metadata": {
        "id": "PRsIh670gSum"
      },
      "execution_count": null,
      "outputs": []
    },
    {
      "cell_type": "code",
      "source": [
        "# changing the kudos date col to datetime\n",
        "kudos_df['Kudos Date'] = pd.to_datetime(kudos_df['Kudos Date'])"
      ],
      "metadata": {
        "id": "90uni4KSjoRk"
      },
      "execution_count": null,
      "outputs": []
    },
    {
      "cell_type": "code",
      "source": [
        "# filtering the kudos date to only 2021\n",
        "kudos_df = kudos_df[kudos_df['Kudos Date'] > '2021-01-01']"
      ],
      "metadata": {
        "id": "j1A-eUx2jU4Z"
      },
      "execution_count": null,
      "outputs": []
    },
    {
      "cell_type": "code",
      "source": [
        "# setting the index to kudos date\n",
        "kudos_df.set_index('Kudos Date', inplace = True)"
      ],
      "metadata": {
        "id": "TIYILiiGkV8m"
      },
      "execution_count": null,
      "outputs": []
    },
    {
      "cell_type": "code",
      "source": [
        "print(kudos_df.head(10))"
      ],
      "metadata": {
        "colab": {
          "base_uri": "https://localhost:8080/"
        },
        "id": "BKHSR_JSg2nU",
        "outputId": "60c2a666-c1dc-4589-83d7-05d40815d68c"
      },
      "execution_count": null,
      "outputs": [
        {
          "output_type": "stream",
          "name": "stdout",
          "text": [
            "                    Kudos Type   Parent ID\n",
            "Kudos Date                                \n",
            "2021-01-03 18:15:53   Activity  4557471533\n",
            "2021-01-11 14:41:43   Activity  4601576163\n",
            "2021-01-11 14:41:53   Activity  4601235756\n",
            "2021-01-15 18:59:46   Activity  4621176515\n",
            "2021-01-18 00:28:34   Activity  4632648762\n",
            "2021-01-18 00:29:07   Activity  4631905956\n",
            "2021-01-18 00:29:09   Activity  4632190150\n",
            "2021-01-18 01:22:35   Activity  4638698280\n",
            "2021-01-19 00:16:22   Activity  4644196837\n",
            "2021-01-19 00:16:26   Activity  4643820879\n"
          ]
        }
      ]
    },
    {
      "cell_type": "markdown",
      "source": [
        "# Downloading modified files"
      ],
      "metadata": {
        "id": "O13eyhOkMDWt"
      }
    },
    {
      "cell_type": "code",
      "source": [
        "from google.colab import files\n",
        "\n",
        "activities_df.to_csv('activities_df.csv')\n",
        "local_legends_segments_df.to_csv('local_legends_segments_df.csv')\n",
        "kudos_df.to_csv('kudos_df')\n",
        "\n",
        "\n",
        "files.download('activities_df.csv')\n",
        "files.download('local_legends_segments_df.csv')\n",
        "files.download('kudos_df.csv')"
      ],
      "metadata": {
        "colab": {
          "base_uri": "https://localhost:8080/",
          "height": 17
        },
        "id": "X39-uavtGM4E",
        "outputId": "8c33578d-7cb0-4a8d-bc5c-92715d9bce99"
      },
      "execution_count": null,
      "outputs": [
        {
          "output_type": "display_data",
          "data": {
            "application/javascript": [
              "\n",
              "    async function download(id, filename, size) {\n",
              "      if (!google.colab.kernel.accessAllowed) {\n",
              "        return;\n",
              "      }\n",
              "      const div = document.createElement('div');\n",
              "      const label = document.createElement('label');\n",
              "      label.textContent = `Downloading \"${filename}\": `;\n",
              "      div.appendChild(label);\n",
              "      const progress = document.createElement('progress');\n",
              "      progress.max = size;\n",
              "      div.appendChild(progress);\n",
              "      document.body.appendChild(div);\n",
              "\n",
              "      const buffers = [];\n",
              "      let downloaded = 0;\n",
              "\n",
              "      const channel = await google.colab.kernel.comms.open(id);\n",
              "      // Send a message to notify the kernel that we're ready.\n",
              "      channel.send({})\n",
              "\n",
              "      for await (const message of channel.messages) {\n",
              "        // Send a message to notify the kernel that we're ready.\n",
              "        channel.send({})\n",
              "        if (message.buffers) {\n",
              "          for (const buffer of message.buffers) {\n",
              "            buffers.push(buffer);\n",
              "            downloaded += buffer.byteLength;\n",
              "            progress.value = downloaded;\n",
              "          }\n",
              "        }\n",
              "      }\n",
              "      const blob = new Blob(buffers, {type: 'application/binary'});\n",
              "      const a = document.createElement('a');\n",
              "      a.href = window.URL.createObjectURL(blob);\n",
              "      a.download = filename;\n",
              "      div.appendChild(a);\n",
              "      a.click();\n",
              "      div.remove();\n",
              "    }\n",
              "  "
            ],
            "text/plain": [
              "<IPython.core.display.Javascript object>"
            ]
          },
          "metadata": {}
        },
        {
          "output_type": "display_data",
          "data": {
            "application/javascript": [
              "download(\"download_5934e986-a4f1-4777-9555-9460972859b1\", \"activities_df.csv\", 56877)"
            ],
            "text/plain": [
              "<IPython.core.display.Javascript object>"
            ]
          },
          "metadata": {}
        }
      ]
    },
    {
      "cell_type": "code",
      "source": [
        ""
      ],
      "metadata": {
        "id": "3NdxRh3NLdS9"
      },
      "execution_count": null,
      "outputs": []
    }
  ]
}