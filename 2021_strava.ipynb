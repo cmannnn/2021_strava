{
  "nbformat": 4,
  "nbformat_minor": 0,
  "metadata": {
    "colab": {
      "name": "2021_strava.ipynb",
      "provenance": [],
      "authorship_tag": "ABX9TyOC5p9tiT6hVW242LFRVDNi",
      "include_colab_link": true
    },
    "kernelspec": {
      "name": "python3",
      "display_name": "Python 3"
    },
    "language_info": {
      "name": "python"
    }
  },
  "cells": [
    {
      "cell_type": "markdown",
      "metadata": {
        "id": "view-in-github",
        "colab_type": "text"
      },
      "source": [
        "<a href=\"https://colab.research.google.com/github/cmannnn/2021_strava/blob/main/2021_strava.ipynb\" target=\"_parent\"><img src=\"https://colab.research.google.com/assets/colab-badge.svg\" alt=\"Open In Colab\"/></a>"
      ]
    },
    {
      "cell_type": "code",
      "execution_count": 1,
      "metadata": {
        "id": "3U8f5wlT0YfA"
      },
      "outputs": [],
      "source": [
        "# imports\n",
        "import pandas as pd\n",
        "import matplotlib.pyplot as plt\n",
        "import seaborn as sns\n",
        "# plt.style.use('ggplot')\n",
        "# sns.set_style('darkgrid')"
      ]
    },
    {
      "cell_type": "code",
      "source": [
        "from google.colab import drive\n",
        "drive.mount('/content/drive')"
      ],
      "metadata": {
        "colab": {
          "base_uri": "https://localhost:8080/"
        },
        "id": "ZMytbzAt3w6o",
        "outputId": "06b0bbdc-4fe9-4079-8deb-57ef1b7b056b"
      },
      "execution_count": 2,
      "outputs": [
        {
          "output_type": "stream",
          "name": "stdout",
          "text": [
            "Mounted at /content/drive\n"
          ]
        }
      ]
    },
    {
      "cell_type": "code",
      "source": [
        "activities_path = \"/content/drive/MyDrive/Colabby Krabby Paddy/2021_strava/2021_strava/activities.csv\"\n",
        "local_legends_segments_path = \"/content/drive/MyDrive/Colabby Krabby Paddy/2021_strava/2021_strava/local_legend_segments.csv\"\n",
        "kudos_path = \"/content/drive/MyDrive/Colabby Krabby Paddy/2021_strava/2021_strava/kudos.csv\"\n",
        "segments_path = \"/content/drive/MyDrive/Colabby Krabby Paddy/2021_strava/2021_strava/segments.csv\""
      ],
      "metadata": {
        "id": "ZNqzdsV85KJr"
      },
      "execution_count": 12,
      "outputs": []
    },
    {
      "cell_type": "code",
      "source": [
        "activities_df = pd.read_csv(activities_path, parse_dates = True, index_col = 'Activity Date')\n",
        "print(activities_df.head())"
      ],
      "metadata": {
        "colab": {
          "base_uri": "https://localhost:8080/"
        },
        "id": "XK2jOAwl6O6d",
        "outputId": "f1da15fa-0c60-4ca8-987d-f333767d2b18"
      },
      "execution_count": 21,
      "outputs": [
        {
          "output_type": "stream",
          "name": "stdout",
          "text": [
            "                     Activity ID  ... <span class=\"translation_missing\" title=\"translation missing: en-US.lib.export.portability_exporter.activities.horton_values.newly_explored_dirt_distance\">Newly Explored Dirt Distance</span>\n",
            "Activity Date                     ...                                                                                                                                                                                               \n",
            "2020-06-28 17:03:05   3685097064  ...                                                NaN                                                                                                                                            \n",
            "2020-06-29 21:42:34   3690295300  ...                                                NaN                                                                                                                                            \n",
            "2020-06-30 21:01:11   3695178692  ...                                                NaN                                                                                                                                            \n",
            "2020-07-01 20:38:04   3700009444  ...                                                NaN                                                                                                                                            \n",
            "2020-07-03 13:44:58   3707730760  ...                                                NaN                                                                                                                                            \n",
            "\n",
            "[5 rows x 82 columns]\n"
          ]
        }
      ]
    },
    {
      "cell_type": "code",
      "source": [
        "print(activities_df['Activity Date'].head())"
      ],
      "metadata": {
        "colab": {
          "base_uri": "https://localhost:8080/"
        },
        "id": "F4l8zDfy7o-b",
        "outputId": "0a470ab2-149d-4907-b2b7-b6258732f2a9"
      },
      "execution_count": 20,
      "outputs": [
        {
          "output_type": "stream",
          "name": "stdout",
          "text": [
            "0    Jun 28, 2020, 5:03:05 PM\n",
            "1    Jun 29, 2020, 9:42:34 PM\n",
            "2    Jun 30, 2020, 9:01:11 PM\n",
            "3     Jul 1, 2020, 8:38:04 PM\n",
            "4     Jul 3, 2020, 1:44:58 PM\n",
            "Name: Activity Date, dtype: object\n"
          ]
        }
      ]
    },
    {
      "cell_type": "code",
      "source": [
        "local_legends_segments_df = pd.read_csv(local_legends_segments_path)\n",
        "print(local_legends_segments_df.head())"
      ],
      "metadata": {
        "colab": {
          "base_uri": "https://localhost:8080/"
        },
        "id": "kkWt3m18652A",
        "outputId": "df9c6374-5cbd-4cff-b513-f16057dd0ad6"
      },
      "execution_count": 10,
      "outputs": [
        {
          "output_type": "stream",
          "name": "stdout",
          "text": [
            "   Segment ID      Segment Name\n",
            "0      784795  Trafton Rd Climb\n",
            "1     5265111       Sheddsville\n",
            "2     6548500           college\n",
            "3     8396145             Kings\n",
            "4     8691292  Cypress St Climb\n"
          ]
        }
      ]
    },
    {
      "cell_type": "code",
      "source": [
        "# data frame read\n",
        "df = pd.read_csv('strava.csv', parse_dates=True, index_col='Activity Date')"
      ],
      "metadata": {
        "id": "ZJr1lEbR3KEy"
      },
      "execution_count": null,
      "outputs": []
    }
  ]
}